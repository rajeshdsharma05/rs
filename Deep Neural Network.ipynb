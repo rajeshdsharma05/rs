{
 "cells": [
  {
   "cell_type": "markdown",
   "id": "bec56339",
   "metadata": {
    "id": "bec56339"
   },
   "source": [
    "# 1. Import the required libraries"
   ]
  },
  {
   "cell_type": "code",
   "execution_count": 300,
   "id": "46631608",
   "metadata": {
    "id": "46631608"
   },
   "outputs": [],
   "source": [
    "# importing libraries\n",
    "\n",
    "from keras.callbacks import ModelCheckpoint\n",
    "from keras.datasets import fashion_mnist\n",
    "from keras.layers.core import Dense, Dropout, Activation\n",
    "from keras.models import Sequential\n",
    "from keras.utils import np_utils\n",
    "from tensorflow import keras\n",
    "import numpy as np\n",
    "import matplotlib.pyplot as plt\n",
    "import pandas as pd\n",
    "import seaborn as sns\n",
    "import sklearn.metrics\n",
    "import time\n",
    "import matplotlib.pyplot as plt\n",
    "import seaborn as sns\n",
    "from sklearn.metrics import confusion_matrix\n",
    "from sklearn.metrics import classification_report"
   ]
  },
  {
   "cell_type": "markdown",
   "id": "3cc8e0cb",
   "metadata": {
    "id": "3cc8e0cb"
   },
   "source": [
    "# 2. Data Acquisition\n",
    "\n",
    "\n",
    "## 2.1 Code for converting the above downloaded data into a form suitable for DL\n",
    "\n"
   ]
  },
  {
   "cell_type": "code",
   "execution_count": 301,
   "id": "4b51d895",
   "metadata": {
    "colab": {
     "base_uri": "https://localhost:8080/"
    },
    "id": "4b51d895",
    "outputId": "0abd22d4-1eda-47eb-b47f-ea2480afdc7f"
   },
   "outputs": [
    {
     "name": "stdout",
     "output_type": "stream",
     "text": [
      "X_train original shape (60000, 28, 28)\n",
      "y_train original shape (60000,)\n",
      "X_test original shape (10000, 28, 28)\n",
      "y_test original shape (10000,)\n"
     ]
    }
   ],
   "source": [
    "# Using the Fashion MNIST dataset  of Keras and loading the data\n",
    "\n",
    "(X_train, y_train), (X_test, y_test) = fashion_mnist.load_data()\n",
    "\n",
    "print(\"X_train original shape\", X_train.shape)\n",
    "print(\"y_train original shape\", y_train.shape)\n",
    "print(\"X_test original shape\", X_test.shape)\n",
    "print(\"y_test original shape\", y_test.shape)"
   ]
  },
  {
   "cell_type": "markdown",
   "id": "812edb18",
   "metadata": {
    "id": "812edb18"
   },
   "source": [
    "# 2.2 Write your observations from the above.\n",
    "\n",
    "### Observations:\n",
    "\n",
    "1. Dataset contains total 70000 examples out of which 60000 are in training set and 10000 are in testing set.   \n",
    "\n",
    "\n",
    "2. Each image is having height of 28 pixels and width of 28 pixels, total 784 pixels. Total there are 785 attributes. A class lable attribute and 784 pixel attributes.\n",
    "\n",
    "\n",
    "3. Images are classified to a specific class and using this data model can be created to classify new images.\n",
    "\n",
    "\n",
    "4. Below is the plot to view examples of training data."
   ]
  },
  {
   "cell_type": "code",
   "execution_count": 302,
   "id": "1a74cd9c",
   "metadata": {
    "colab": {
     "base_uri": "https://localhost:8080/",
     "height": 410
    },
    "id": "1a74cd9c",
    "outputId": "a82ef864-eafc-44d0-e281-e394d2befb82"
   },
   "outputs": [
    {
     "data": {
      "image/png": "[encoded data removed]",
      "text/plain": [
       "<Figure size 720x288 with 10 Axes>"
      ]
     },
     "metadata": {
      "needs_background": "light"
     },
     "output_type": "display_data"
    }
   ],
   "source": [
    "class_labels_dict = {0:\"T-shirt/top\",1:\"Trouser\",2:\"Pullover\",3:\"Dress\",4:\"Coat\",5:\"Sandal\",6:\"Shirt\",7:\"Sneaker\",8:\"Bag\",9:\"Ankle boot\"}\n",
    "\n",
    "fig = plt.figure(figsize=(10,4))\n",
    "\n",
    "for i in range(10):\n",
    "    plt.subplot(2,5,i+1)\n",
    "    img = X_train[y_train == i][0]\n",
    "    plt.imshow(img, cmap='gray', interpolation='none')\n",
    "    plt.title(\"Class: {}\".format(class_labels_dict[i]))\n",
    "    plt.axis('off')\n",
    "\n",
    "plt.tight_layout()\n"
   ]
  },
  {
   "cell_type": "markdown",
   "id": "102e0e36",
   "metadata": {
    "id": "102e0e36"
   },
   "source": [
    "# 3. Data Preparation\n",
    "\n"
   ]
  },
  {
   "cell_type": "markdown",
   "id": "06fdebf8",
   "metadata": {
    "id": "06fdebf8"
   },
   "source": [
    "## 3.1 Apply pre-processing techiniques\n",
    "\n",
    "### Comments:\n",
    "\n",
    "#### Below mentioned preprocessing techniques are applied:\n",
    "\n",
    "\n",
    "1. Reshape the input so that each 28x28 image becomes a single 784 dimensional vector. This is required for input to neural network.\n",
    "\n",
    "\n",
    "2. Normalize inputs so that pixel values are in the [0-1] range rather than [0-255].\n",
    "\n",
    "\n",
    "3. Perform one-hot encoding to deal with categorical variables in our case. \n"
   ]
  },
  {
   "cell_type": "code",
   "execution_count": 303,
   "id": "3b33bc1c",
   "metadata": {
    "colab": {
     "base_uri": "https://localhost:8080/"
    },
    "id": "3b33bc1c",
    "outputId": "abcab122-b289-4102-84c7-a292b5964acb"
   },
   "outputs": [
    {
     "name": "stdout",
     "output_type": "stream",
     "text": [
      "Training matrix shape (60000, 784)\n",
      "Testing matrix shape (10000, 784)\n"
     ]
    }
   ],
   "source": [
    "# Reshaping of input\n",
    "\n",
    "X_train = X_train.reshape(X_train.shape[0], 784)\n",
    "X_test = X_test.reshape(X_test.shape[0], 784)\n",
    "X_train = X_train.astype('float32')\n",
    "X_test = X_test.astype('float32')\n",
    "\n",
    "print(\"Training matrix shape\", X_train.shape)\n",
    "print(\"Testing matrix shape\", X_test.shape)"
   ]
  },
  {
   "cell_type": "code",
   "execution_count": 304,
   "id": "df42a8bc",
   "metadata": {
    "id": "df42a8bc"
   },
   "outputs": [],
   "source": [
    "# Normalization of input\n",
    "\n",
    "X_train /= 255\n",
    "X_test /= 255"
   ]
  },
  {
   "cell_type": "code",
   "execution_count": 305,
   "id": "da7621b0",
   "metadata": {
    "id": "da7621b0"
   },
   "outputs": [],
   "source": [
    "# one-hot encoding of target variable\n",
    "\n",
    "num_classes = 10 # There are 10 classes possible\n",
    "Y_train = np_utils.to_categorical(y_train, num_classes)\n",
    "Y_test = np_utils.to_categorical(y_test, num_classes)"
   ]
  },
  {
   "cell_type": "markdown",
   "id": "793cd04b",
   "metadata": {
    "id": "793cd04b"
   },
   "source": [
    "## 3.2 Identify the target variables.\n",
    "\n"
   ]
  },
  {
   "cell_type": "markdown",
   "id": "61a20866",
   "metadata": {},
   "source": [
    "### Target variables and one-hot encoding :\n",
    "\n",
    "\n",
    "1. This is already being done in above sections 2.1 and 3.1\n"
   ]
  },
  {
   "cell_type": "markdown",
   "id": "4cd14601",
   "metadata": {
    "id": "4cd14601"
   },
   "source": [
    "## 3.3 Split the data into training set and testing set"
   ]
  },
  {
   "cell_type": "markdown",
   "id": "e0bbe7e0",
   "metadata": {},
   "source": [
    "1. This is already being done in above section 2.1 above"
   ]
  },
  {
   "cell_type": "markdown",
   "id": "e3cec4fc",
   "metadata": {
    "id": "e3cec4fc"
   },
   "source": [
    "## 3.4 Preprocessing report\n",
    "\n"
   ]
  },
  {
   "cell_type": "markdown",
   "id": "99753673",
   "metadata": {},
   "source": [
    "### Preprocessing Justifications :\n",
    "    \n",
    "1. Reshaping of input is done so that each 28x28 pixel becomes a 784 dimensional vector which is needed for neural networks.\n",
    "\n",
    "    \n",
    "2. Pixel values are normalized as it is better to work with [0-1] range instead of [0-255] range.\n",
    "    \n",
    "    \n",
    "3. The target vectors y_train and y_test are arrays which can take the values 0, 1, 2, 3 etc. This means our  model would assume that predicting 1 instead of 0 is better than predicting 5.But our labels are actually categorical - the value 0 encodes T-shirts/Tops, which are no more similar to Trousers (encoded by 1) than they are to sandals (encoded by 5). To address this, we use one-hot encoding to deal with the categorical target variables in context."
   ]
  },
  {
   "cell_type": "markdown",
   "id": "909bcbbb",
   "metadata": {},
   "source": [
    "### Size of Training and Testing dataset after pre-processing :"
   ]
  },
  {
   "cell_type": "code",
   "execution_count": 306,
   "id": "85f54645",
   "metadata": {},
   "outputs": [
    {
     "name": "stdout",
     "output_type": "stream",
     "text": [
      "Training matrix shape (60000, 784)\n",
      "Testing matrix shape (10000, 784)\n"
     ]
    }
   ],
   "source": [
    "print(\"Training matrix shape\", X_train.shape)\n",
    "print(\"Testing matrix shape\", X_test.shape)"
   ]
  },
  {
   "cell_type": "markdown",
   "id": "3ae0b5d2",
   "metadata": {
    "id": "3ae0b5d2"
   },
   "source": [
    "# 4. Deep Neural Network Architecture\n"
   ]
  },
  {
   "cell_type": "markdown",
   "id": "e9cbea03",
   "metadata": {
    "id": "186bf4d7"
   },
   "source": [
    "## 4.1 Architecture Design - Basic Model - 4 Layers\n",
    "\n",
    "### Comments :\n",
    "\n",
    "1. We will be using Sequential model with dense input, hidden and output layers.\n",
    "\n",
    "\n",
    "2. We will be using Relu activation function for input and hidden layers and Softmax activation function for output layer.\n",
    "\n",
    "\n",
    "3. We will use dropout to prevent overfitting of training data\n",
    "\n"
   ]
  },
  {
   "cell_type": "code",
   "execution_count": 307,
   "id": "868d7b27",
   "metadata": {
    "colab": {
     "base_uri": "https://localhost:8080/"
    },
    "id": "868d7b27",
    "outputId": "4969bfe3-9e1e-4101-9104-59658f864ee6"
   },
   "outputs": [
    {
     "data": {
      "text/plain": [
       "0.07971072196960449"
      ]
     },
     "execution_count": 307,
     "metadata": {},
     "output_type": "execute_result"
    }
   ],
   "source": [
    "t0 = time.time()\n",
    "model = Sequential() # Declare a Sequential model\n",
    "\n",
    "#Layer 1\n",
    "model.add(Dense(512, input_shape=(784,))) # Add a dense input layer of 512 units\n",
    "                                        # The input shape is (784,) because the features are 784 dimensional vectors\n",
    "model.add(Activation('relu')) # Apply ReLu activation function to the layer output\n",
    "\n",
    "#Layer 2\n",
    "model.add(Dense(512)) # Add 1st hidden layer of 512 units\n",
    "model.add(Activation('relu'))\n",
    "\n",
    "#Layer 3\n",
    "model.add(Dense(384)) # Add 2nd hidden layer of 384 units\n",
    "model.add(Activation('relu'))\n",
    "\n",
    "#Layer 4\n",
    "model.add(Dense(num_classes)) # Add an output layer of 10 units, the number of classes\n",
    "model.add(Activation('softmax')) # The \"softmax\" activation ensures the output is a valid probability distribution\n",
    "t1 = time.time()\n",
    "\n",
    "total = t1-t0\n",
    "total"
   ]
  },
  {
   "cell_type": "markdown",
   "id": "575f9e37",
   "metadata": {
    "id": "575f9e37"
   },
   "source": [
    "## 4.2 DNN Report\n",
    "\n",
    "### Report and Justifications as per model summary below :\n",
    "\n",
    "* Total 4 Layers are in the architecture - Input layer, Two Hidden Layers, Output Layer.\n",
    "\n",
    "\n",
    "* Layers & Units - Input - 512 units | 1st Hidden Layer - 512 units | 2nd Hidden Layer - 384 units | Outlayer - 10 units (equal to number of classes). \n",
    "\n",
    "\n",
    "* Total number of trainable parameters - 865,418\n"
   ]
  },
  {
   "cell_type": "code",
   "execution_count": 308,
   "id": "6ad56d90",
   "metadata": {
    "colab": {
     "base_uri": "https://localhost:8080/"
    },
    "id": "6ad56d90",
    "outputId": "b2c2b79d-6ff7-4c65-94c2-5dad4335e38f"
   },
   "outputs": [
    {
     "name": "stdout",
     "output_type": "stream",
     "text": [
      "Model: \"sequential_34\"\n",
      "_________________________________________________________________\n",
      " Layer (type)                Output Shape              Param #   \n",
      "=================================================================\n",
      " dense_128 (Dense)           (None, 512)               401920    \n",
      "                                                                 \n",
      " activation_128 (Activation)  (None, 512)              0         \n",
      "                                                                 \n",
      " dense_129 (Dense)           (None, 512)               262656    \n",
      "                                                                 \n",
      " activation_129 (Activation)  (None, 512)              0         \n",
      "                                                                 \n",
      " dense_130 (Dense)           (None, 384)               196992    \n",
      "                                                                 \n",
      " activation_130 (Activation)  (None, 384)              0         \n",
      "                                                                 \n",
      " dense_131 (Dense)           (None, 10)                3850      \n",
      "                                                                 \n",
      " activation_131 (Activation)  (None, 10)               0         \n",
      "                                                                 \n",
      "=================================================================\n",
      "Total params: 865,418\n",
      "Trainable params: 865,418\n",
      "Non-trainable params: 0\n",
      "_________________________________________________________________\n"
     ]
    }
   ],
   "source": [
    "model.summary()"
   ]
  },
  {
   "cell_type": "markdown",
   "id": "bdbc82a1",
   "metadata": {
    "id": "bdbc82a1"
   },
   "source": [
    "# 5. Training the model\n"
   ]
  },
  {
   "cell_type": "markdown",
   "id": "ca214eb3",
   "metadata": {
    "id": "ca214eb3"
   },
   "source": [
    "## 5.1 Configure the training\n"
   ]
  },
  {
   "cell_type": "code",
   "execution_count": 309,
   "id": "a85e9754",
   "metadata": {
    "id": "a85e9754"
   },
   "outputs": [],
   "source": [
    "filepath=\"mlp-weights.{epoch:02d}-{val_loss:.2f}.hdf5\"\n",
    "checkpoint = ModelCheckpoint(filepath, monitor='val_acc', verbose=1, save_best_only=True, mode='max')"
   ]
  },
  {
   "cell_type": "markdown",
   "id": "32fd60d8",
   "metadata": {
    "id": "32fd60d8"
   },
   "source": [
    "## 5.2 Train the model\n"
   ]
  },
  {
   "cell_type": "code",
   "execution_count": 310,
   "id": "8efaa227",
   "metadata": {
    "colab": {
     "base_uri": "https://localhost:8080/"
    },
    "id": "8efaa227",
    "outputId": "f01ec9a8-d412-49d2-cb10-3b75368f4410"
   },
   "outputs": [
    {
     "name": "stdout",
     "output_type": "stream",
     "text": [
      "Epoch 1/25\n",
      "469/469 [==============================] - 9s 18ms/step - loss: 0.6091 - accuracy: 0.7908 - val_loss: 0.4507 - val_accuracy: 0.8409\n",
      "Epoch 2/25\n",
      "469/469 [==============================] - 8s 17ms/step - loss: 0.4049 - accuracy: 0.8547 - val_loss: 0.3999 - val_accuracy: 0.8535\n",
      "Epoch 3/25\n",
      "469/469 [==============================] - 8s 17ms/step - loss: 0.3625 - accuracy: 0.8701 - val_loss: 0.3915 - val_accuracy: 0.8609\n",
      "Epoch 4/25\n",
      "469/469 [==============================] - 8s 17ms/step - loss: 0.3362 - accuracy: 0.8779 - val_loss: 0.4299 - val_accuracy: 0.8472\n",
      "Epoch 5/25\n",
      "469/469 [==============================] - 8s 17ms/step - loss: 0.3144 - accuracy: 0.8849 - val_loss: 0.3731 - val_accuracy: 0.8630\n",
      "Epoch 6/25\n",
      "469/469 [==============================] - 8s 17ms/step - loss: 0.2976 - accuracy: 0.8907 - val_loss: 0.3718 - val_accuracy: 0.8683\n",
      "Epoch 7/25\n",
      "469/469 [==============================] - 8s 17ms/step - loss: 0.2856 - accuracy: 0.8944 - val_loss: 0.3369 - val_accuracy: 0.8765\n",
      "Epoch 8/25\n",
      "469/469 [==============================] - 8s 18ms/step - loss: 0.2697 - accuracy: 0.8990 - val_loss: 0.3493 - val_accuracy: 0.8729\n",
      "Epoch 9/25\n",
      "469/469 [==============================] - 8s 17ms/step - loss: 0.2595 - accuracy: 0.9037 - val_loss: 0.3386 - val_accuracy: 0.8820\n",
      "Epoch 10/25\n",
      "469/469 [==============================] - 8s 17ms/step - loss: 0.2506 - accuracy: 0.9069 - val_loss: 0.3543 - val_accuracy: 0.8711\n",
      "Epoch 11/25\n",
      "469/469 [==============================] - 9s 19ms/step - loss: 0.2398 - accuracy: 0.9111 - val_loss: 0.3757 - val_accuracy: 0.8693\n",
      "Epoch 12/25\n",
      "469/469 [==============================] - 9s 18ms/step - loss: 0.2336 - accuracy: 0.9129 - val_loss: 0.3219 - val_accuracy: 0.8857\n",
      "Epoch 13/25\n",
      "469/469 [==============================] - 8s 17ms/step - loss: 0.2240 - accuracy: 0.9163 - val_loss: 0.3059 - val_accuracy: 0.8908\n",
      "Epoch 14/25\n",
      "469/469 [==============================] - 8s 18ms/step - loss: 0.2176 - accuracy: 0.9183 - val_loss: 0.3229 - val_accuracy: 0.8848\n",
      "Epoch 15/25\n",
      "469/469 [==============================] - 9s 18ms/step - loss: 0.2093 - accuracy: 0.9225 - val_loss: 0.3233 - val_accuracy: 0.8905\n",
      "Epoch 16/25\n",
      "469/469 [==============================] - 10s 22ms/step - loss: 0.2028 - accuracy: 0.9240 - val_loss: 0.3319 - val_accuracy: 0.8869\n",
      "Epoch 17/25\n",
      "469/469 [==============================] - 9s 20ms/step - loss: 0.1938 - accuracy: 0.9284 - val_loss: 0.3307 - val_accuracy: 0.8819\n",
      "Epoch 18/25\n",
      "469/469 [==============================] - 9s 19ms/step - loss: 0.1897 - accuracy: 0.9296 - val_loss: 0.3281 - val_accuracy: 0.8893\n",
      "Epoch 19/25\n",
      "469/469 [==============================] - 9s 19ms/step - loss: 0.1824 - accuracy: 0.9319 - val_loss: 0.3076 - val_accuracy: 0.8956\n",
      "Epoch 20/25\n",
      "469/469 [==============================] - 9s 19ms/step - loss: 0.1774 - accuracy: 0.9343 - val_loss: 0.3296 - val_accuracy: 0.8871\n",
      "Epoch 21/25\n",
      "469/469 [==============================] - 9s 19ms/step - loss: 0.1711 - accuracy: 0.9360 - val_loss: 0.3133 - val_accuracy: 0.8927\n",
      "Epoch 22/25\n",
      "469/469 [==============================] - 9s 19ms/step - loss: 0.1649 - accuracy: 0.9386 - val_loss: 0.3358 - val_accuracy: 0.8878\n",
      "Epoch 23/25\n",
      "469/469 [==============================] - 10s 21ms/step - loss: 0.1621 - accuracy: 0.9388 - val_loss: 0.3366 - val_accuracy: 0.8904\n",
      "Epoch 24/25\n",
      "469/469 [==============================] - 9s 20ms/step - loss: 0.1548 - accuracy: 0.9421 - val_loss: 0.3367 - val_accuracy: 0.8929\n",
      "Epoch 25/25\n",
      "469/469 [==============================] - 9s 19ms/step - loss: 0.1512 - accuracy: 0.9432 - val_loss: 0.3365 - val_accuracy: 0.8897\n",
      "\n",
      "Total time is:  217.37525010108948\n",
      "\n",
      "Final training accuracy  0.9432166814804077\n",
      "\n",
      "Final validation accuracy  0.8896999955177307\n"
     ]
    }
   ],
   "source": [
    "## Training the model with cross validation and 25 epochs\n",
    "\n",
    "## SGD Optimizer used\n",
    "\n",
    "## CE loss and Accuracy recorded for each epoch\n",
    "\n",
    "\n",
    "start_time = time.time()\n",
    "sgd_optimizer = keras.optimizers.SGD(learning_rate=0.01, momentum=0.9)\n",
    "model.compile(loss='categorical_crossentropy', optimizer=sgd_optimizer, metrics=['accuracy'])\n",
    "history = model.fit(X_train,\n",
    "                    Y_train,\n",
    "                    batch_size=128,\n",
    "                    epochs=25,\n",
    "                    verbose=1,\n",
    "                    validation_data=(X_test,Y_test))\n",
    "end_time = time.time()\n",
    "\n",
    "print('\\nTotal time is: ', end_time-start_time)\n",
    "print('\\nFinal training accuracy ', history.history['accuracy'][-1])\n",
    "print('\\nFinal validation accuracy ', history.history['val_accuracy'][-1])"
   ]
  },
  {
   "cell_type": "markdown",
   "id": "af0a0c2a",
   "metadata": {
    "id": "b89d2981"
   },
   "source": [
    "### Justifications:\n",
    "\n",
    "1. Stochastic Gradient Descent (SGD) is used due to below reasons\n",
    "    - Efficient in computation\n",
    "    - Faster convergance\n",
    "    - Prevents overfitting\n",
    "    - Scalable for large datasets\n",
    "    - Flexible in terms of hyper-parameter tuning\n",
    "    \n",
    "    \n",
    "    \n",
    "2. Learning rate of 0.01 is taken as we think it is good to start with.\n",
    "    \n",
    "    "
   ]
  },
  {
   "cell_type": "markdown",
   "id": "06f1173c",
   "metadata": {
    "id": "06f1173c"
   },
   "source": [
    "# 6. Test the model"
   ]
  },
  {
   "cell_type": "code",
   "execution_count": 311,
   "id": "7042235d",
   "metadata": {
    "colab": {
     "base_uri": "https://localhost:8080/"
    },
    "id": "7042235d",
    "outputId": "496f3c00-6819-4a9b-cb35-6d6544c1068f"
   },
   "outputs": [
    {
     "name": "stdout",
     "output_type": "stream",
     "text": [
      "313/313 [==============================] - 1s 5ms/step - loss: 0.3365 - accuracy: 0.8897\n"
     ]
    }
   ],
   "source": [
    "model_eval = model.evaluate(X_test, Y_test)"
   ]
  },
  {
   "cell_type": "markdown",
   "id": "eb57940c",
   "metadata": {
    "id": "eb57940c"
   },
   "source": [
    "# 7. Intermediate result\n",
    "\n"
   ]
  },
  {
   "cell_type": "code",
   "execution_count": 312,
   "id": "55a03506",
   "metadata": {
    "colab": {
     "base_uri": "https://localhost:8080/",
     "height": 472
    },
    "id": "55a03506",
    "outputId": "db5c2a8f-4beb-43bb-bc75-3777be3c6cf3"
   },
   "outputs": [
    {
     "data": {
      "image/png": "[encoded data removed]",
      "text/plain": [
       "<Figure size 432x288 with 1 Axes>"
      ]
     },
     "metadata": {
      "needs_background": "light"
     },
     "output_type": "display_data"
    }
   ],
   "source": [
    "# 1. Training and Validation accuracy history\n",
    "\n",
    "plt.plot(range(1,1+len(history.history['accuracy'])), history.history['accuracy'])\n",
    "plt.plot(range(1,1+len(history.history['val_accuracy'])), history.history['val_accuracy'])\n",
    "plt.title('Model Accuracy vs Number of Epochs')\n",
    "plt.ylabel('Accuracy')\n",
    "plt.xlabel('Epoch Number')\n",
    "plt.legend(['train', 'test'], loc='best')\n",
    "plt.xticks(np.arange(0,28,2))\n",
    "plt.show()"
   ]
  },
  {
   "cell_type": "code",
   "execution_count": 313,
   "id": "pwDH4D9n2ctU",
   "metadata": {
    "colab": {
     "base_uri": "https://localhost:8080/",
     "height": 448
    },
    "id": "pwDH4D9n2ctU",
    "outputId": "2e29d2e9-99ed-44ef-adee-b25d6fe24ded"
   },
   "outputs": [
    {
     "data": {
      "image/png": "[encoded data removed]",
      "text/plain": [
       "<Figure size 432x288 with 1 Axes>"
      ]
     },
     "metadata": {
      "needs_background": "light"
     },
     "output_type": "display_data"
    }
   ],
   "source": [
    "# 2. Plot the training and validation loss history.\n",
    "\n",
    "plt.title('Loss vs Number of Epochs')\n",
    "plt.ylabel('Loss')\n",
    "plt.xlabel('Epoch Number')\n",
    "plt.plot(history.history['loss'], label= 'loss')\n",
    "plt.plot(history.history['val_loss'], label= 'val_loss')\n",
    "plt.legend()\n",
    "plt.show()"
   ]
  },
  {
   "cell_type": "code",
   "execution_count": 314,
   "id": "99b8038e",
   "metadata": {},
   "outputs": [
    {
     "name": "stdout",
     "output_type": "stream",
     "text": [
      "313/313 [==============================] - 1s 4ms/step\n",
      "(10000,)\n",
      "(10000,)\n"
     ]
    }
   ],
   "source": [
    "# prediction\n",
    "\n",
    "num_classes = 10\n",
    "\n",
    "#traget names\n",
    "target_names = [\"Class {}\".format(i) for i in range(num_classes)]\n",
    "\n",
    "Ytrue = np.argmax(Y_test, axis = 1)\n",
    "\n",
    "# Predict Labels\n",
    "Ypredicted = model.predict(X_test)\n",
    "Ypredicted = np.argmax(np.round(Ypredicted), axis = 1)\n",
    "print (Ytrue.shape)\n",
    "print (Ypredicted.shape)"
   ]
  },
  {
   "cell_type": "markdown",
   "id": "502f418c",
   "metadata": {},
   "source": [
    "### Confusion Matrix, Precision, Recall, f1-score"
   ]
  },
  {
   "cell_type": "code",
   "execution_count": 315,
   "id": "SLgoLmeYuxX5",
   "metadata": {
    "id": "SLgoLmeYuxX5"
   },
   "outputs": [
    {
     "name": "stdout",
     "output_type": "stream",
     "text": [
      "              precision    recall  f1-score   support\n",
      "\n",
      "           0       0.73      0.86      0.79      1000\n",
      "           1       0.99      0.98      0.99      1000\n",
      "           2       0.81      0.83      0.82      1000\n",
      "           3       0.90      0.90      0.90      1000\n",
      "           4       0.89      0.71      0.79      1000\n",
      "           5       0.97      0.97      0.97      1000\n",
      "           6       0.71      0.74      0.72      1000\n",
      "           7       0.95      0.95      0.95      1000\n",
      "           8       0.99      0.95      0.97      1000\n",
      "           9       0.95      0.96      0.96      1000\n",
      "\n",
      "    accuracy                           0.89     10000\n",
      "   macro avg       0.89      0.89      0.89     10000\n",
      "weighted avg       0.89      0.89      0.89     10000\n",
      "\n"
     ]
    },
    {
     "data": {
      "image/png": "[encoded data removed]",
      "text/plain": [
       "<Figure size 720x504 with 2 Axes>"
      ]
     },
     "metadata": {
      "needs_background": "light"
     },
     "output_type": "display_data"
    }
   ],
   "source": [
    "cm = confusion_matrix(Ytrue, Ypredicted)\n",
    "df_cm = pd.DataFrame(cm)\n",
    "\n",
    "plt.figure(figsize = (10,7))\n",
    "sns.heatmap(df_cm, annot=True, vmin=-20, vmax=40, cmap=\"Blues\")\n",
    "\n",
    "print(classification_report(Ytrue, Ypredicted))"
   ]
  },
  {
   "cell_type": "markdown",
   "id": "c8146c5b",
   "metadata": {
    "id": "c8146c5b"
   },
   "source": [
    "# 8. Model architecture\n"
   ]
  },
  {
   "cell_type": "markdown",
   "id": "f9336c15",
   "metadata": {},
   "source": [
    "# 8.1 Architecture with 3 Layers"
   ]
  },
  {
   "cell_type": "code",
   "execution_count": 316,
   "id": "YmeccO0m3t0r",
   "metadata": {
    "id": "YmeccO0m3t0r"
   },
   "outputs": [
    {
     "name": "stdout",
     "output_type": "stream",
     "text": [
      "Epoch 1/25\n",
      "469/469 [==============================] - 7s 15ms/step - loss: 0.6006 - accuracy: 0.7929 - val_loss: 0.4807 - val_accuracy: 0.8295\n",
      "Epoch 2/25\n",
      "469/469 [==============================] - 7s 16ms/step - loss: 0.4163 - accuracy: 0.8535 - val_loss: 0.4398 - val_accuracy: 0.8417\n",
      "Epoch 3/25\n",
      "469/469 [==============================] - 8s 16ms/step - loss: 0.3762 - accuracy: 0.8651 - val_loss: 0.4136 - val_accuracy: 0.8470\n",
      "Epoch 4/25\n",
      "469/469 [==============================] - 7s 14ms/step - loss: 0.3467 - accuracy: 0.8759 - val_loss: 0.3695 - val_accuracy: 0.8659\n",
      "Epoch 5/25\n",
      "469/469 [==============================] - 7s 14ms/step - loss: 0.3260 - accuracy: 0.8829 - val_loss: 0.3702 - val_accuracy: 0.8660\n",
      "Epoch 6/25\n",
      "469/469 [==============================] - 7s 14ms/step - loss: 0.3097 - accuracy: 0.8889 - val_loss: 0.3635 - val_accuracy: 0.8670\n",
      "Epoch 7/25\n",
      "469/469 [==============================] - 7s 14ms/step - loss: 0.2994 - accuracy: 0.8905 - val_loss: 0.3476 - val_accuracy: 0.8764\n",
      "Epoch 8/25\n",
      "469/469 [==============================] - 7s 14ms/step - loss: 0.2883 - accuracy: 0.8945 - val_loss: 0.3613 - val_accuracy: 0.8728\n",
      "Epoch 9/25\n",
      "469/469 [==============================] - 7s 14ms/step - loss: 0.2747 - accuracy: 0.8996 - val_loss: 0.3438 - val_accuracy: 0.8772\n",
      "Epoch 10/25\n",
      "469/469 [==============================] - 7s 14ms/step - loss: 0.2651 - accuracy: 0.9034 - val_loss: 0.3344 - val_accuracy: 0.8796\n",
      "Epoch 11/25\n",
      "469/469 [==============================] - 7s 14ms/step - loss: 0.2583 - accuracy: 0.9059 - val_loss: 0.3310 - val_accuracy: 0.8841\n",
      "Epoch 12/25\n",
      "469/469 [==============================] - 7s 15ms/step - loss: 0.2487 - accuracy: 0.9085 - val_loss: 0.3401 - val_accuracy: 0.8757\n",
      "Epoch 13/25\n",
      "469/469 [==============================] - 7s 14ms/step - loss: 0.2431 - accuracy: 0.9107 - val_loss: 0.3349 - val_accuracy: 0.8783\n",
      "Epoch 14/25\n",
      "469/469 [==============================] - 7s 14ms/step - loss: 0.2340 - accuracy: 0.9139 - val_loss: 0.3247 - val_accuracy: 0.8834\n",
      "Epoch 15/25\n",
      "469/469 [==============================] - 7s 14ms/step - loss: 0.2220 - accuracy: 0.9184 - val_loss: 0.3217 - val_accuracy: 0.8850\n",
      "Epoch 16/25\n",
      "469/469 [==============================] - 7s 14ms/step - loss: 0.2177 - accuracy: 0.9204 - val_loss: 0.3290 - val_accuracy: 0.8796\n",
      "Epoch 17/25\n",
      "469/469 [==============================] - 7s 14ms/step - loss: 0.2129 - accuracy: 0.9219 - val_loss: 0.3284 - val_accuracy: 0.8848\n",
      "Epoch 18/25\n",
      "469/469 [==============================] - 7s 14ms/step - loss: 0.2024 - accuracy: 0.9248 - val_loss: 0.3211 - val_accuracy: 0.8912\n",
      "Epoch 19/25\n",
      "469/469 [==============================] - 7s 14ms/step - loss: 0.1979 - accuracy: 0.9275 - val_loss: 0.3236 - val_accuracy: 0.8878\n",
      "Epoch 20/25\n",
      "469/469 [==============================] - 7s 14ms/step - loss: 0.1959 - accuracy: 0.9283 - val_loss: 0.3141 - val_accuracy: 0.8923\n",
      "Epoch 21/25\n",
      "469/469 [==============================] - 7s 14ms/step - loss: 0.1896 - accuracy: 0.9303 - val_loss: 0.3253 - val_accuracy: 0.8863\n",
      "Epoch 22/25\n",
      "469/469 [==============================] - 7s 14ms/step - loss: 0.1818 - accuracy: 0.9342 - val_loss: 0.3131 - val_accuracy: 0.8912\n",
      "Epoch 23/25\n",
      "469/469 [==============================] - 7s 14ms/step - loss: 0.1760 - accuracy: 0.9348 - val_loss: 0.3211 - val_accuracy: 0.8862\n",
      "Epoch 24/25\n",
      "469/469 [==============================] - 7s 14ms/step - loss: 0.1722 - accuracy: 0.9377 - val_loss: 0.3093 - val_accuracy: 0.8889\n",
      "Epoch 25/25\n",
      "469/469 [==============================] - 7s 14ms/step - loss: 0.1660 - accuracy: 0.9394 - val_loss: 0.3349 - val_accuracy: 0.8899\n",
      "\n",
      "Final training accuracy - 3 Layer model : 0.9393500089645386\n",
      "\n",
      "Final validation accuracy - 3 Layer model : 0.8899000287055969\n"
     ]
    }
   ],
   "source": [
    "## 3 layered model\n",
    "\n",
    "t0 = time.time()\n",
    "model_3L = Sequential() # Declare a Sequential model\n",
    "\n",
    "#Layer 1\n",
    "model_3L.add(Dense(512, input_shape=(784,))) # Add a dense input layer of 512 units\n",
    "                                        # The input shape is (784,) because the features are 784 dimensional vectors\n",
    "model_3L.add(Activation('relu')) # Apply ReLu activation function to the layer output\n",
    "\n",
    "#Layer 2\n",
    "model_3L.add(Dense(512)) # Add 1st hidden layer of 512 units\n",
    "model_3L.add(Activation('relu'))\n",
    "\n",
    "#Layer 3\n",
    "model_3L.add(Dense(num_classes)) # Add an output layer of 10 units, the number of classes\n",
    "model_3L.add(Activation('softmax')) # The \"softmax\" activation ensures the output is a valid probability distribution\n",
    "t1 = time.time()\n",
    "\n",
    "sgd_optimizer = keras.optimizers.SGD(learning_rate=0.01, momentum=0.9)\n",
    "model_3L.compile(loss='categorical_crossentropy', optimizer=sgd_optimizer, metrics=['accuracy'])\n",
    "\n",
    "history_3L = model_3L.fit(X_train,\n",
    "                    Y_train,\n",
    "                    batch_size=128,\n",
    "                    epochs=25,\n",
    "                    verbose=1,\n",
    "                    validation_data=(X_test,Y_test))\n",
    "\n",
    "total = t1-t0\n",
    "total\n",
    "\n",
    "print('\\nFinal training accuracy - 3 Layer model :', history_3L.history['accuracy'][-1])\n",
    "print('\\nFinal validation accuracy - 3 Layer model :', history_3L.history['val_accuracy'][-1])"
   ]
  },
  {
   "cell_type": "code",
   "execution_count": 317,
   "id": "2e143d8c",
   "metadata": {},
   "outputs": [
    {
     "name": "stdout",
     "output_type": "stream",
     "text": [
      "313/313 [==============================] - 1s 4ms/step - loss: 0.3349 - accuracy: 0.8899\n"
     ]
    }
   ],
   "source": [
    "model_3L_eval = model_3L.evaluate(X_test, Y_test)"
   ]
  },
  {
   "cell_type": "markdown",
   "id": "2878af96",
   "metadata": {},
   "source": [
    "# 8.2 Architecture with 5 Layers"
   ]
  },
  {
   "cell_type": "code",
   "execution_count": 318,
   "id": "63bbddbb",
   "metadata": {},
   "outputs": [
    {
     "name": "stdout",
     "output_type": "stream",
     "text": [
      "Epoch 1/25\n",
      "469/469 [==============================] - 10s 20ms/step - loss: 0.6232 - accuracy: 0.7836 - val_loss: 0.4807 - val_accuracy: 0.8261\n",
      "Epoch 2/25\n",
      "469/469 [==============================] - 9s 20ms/step - loss: 0.4007 - accuracy: 0.8546 - val_loss: 0.4056 - val_accuracy: 0.8527\n",
      "Epoch 3/25\n",
      "469/469 [==============================] - 10s 21ms/step - loss: 0.3529 - accuracy: 0.8706 - val_loss: 0.3681 - val_accuracy: 0.8676\n",
      "Epoch 4/25\n",
      "469/469 [==============================] - 9s 20ms/step - loss: 0.3278 - accuracy: 0.8797 - val_loss: 0.3586 - val_accuracy: 0.8690\n",
      "Epoch 5/25\n",
      "469/469 [==============================] - 9s 20ms/step - loss: 0.3053 - accuracy: 0.8881 - val_loss: 0.3523 - val_accuracy: 0.8723\n",
      "Epoch 6/25\n",
      "469/469 [==============================] - 9s 20ms/step - loss: 0.2890 - accuracy: 0.8929 - val_loss: 0.3464 - val_accuracy: 0.8756\n",
      "Epoch 7/25\n",
      "469/469 [==============================] - 10s 21ms/step - loss: 0.2736 - accuracy: 0.8975 - val_loss: 0.3338 - val_accuracy: 0.8778\n",
      "Epoch 8/25\n",
      "469/469 [==============================] - 9s 20ms/step - loss: 0.2608 - accuracy: 0.9030 - val_loss: 0.3450 - val_accuracy: 0.8743\n",
      "Epoch 9/25\n",
      "469/469 [==============================] - 9s 20ms/step - loss: 0.2481 - accuracy: 0.9073 - val_loss: 0.3302 - val_accuracy: 0.8804\n",
      "Epoch 10/25\n",
      "469/469 [==============================] - 10s 20ms/step - loss: 0.2396 - accuracy: 0.9107 - val_loss: 0.3227 - val_accuracy: 0.8853\n",
      "Epoch 11/25\n",
      "469/469 [==============================] - 10s 21ms/step - loss: 0.2261 - accuracy: 0.9151 - val_loss: 0.3246 - val_accuracy: 0.8830\n",
      "Epoch 12/25\n",
      "469/469 [==============================] - 10s 20ms/step - loss: 0.2207 - accuracy: 0.9171 - val_loss: 0.3218 - val_accuracy: 0.8851\n",
      "Epoch 13/25\n",
      "469/469 [==============================] - 10s 20ms/step - loss: 0.2121 - accuracy: 0.9207 - val_loss: 0.3108 - val_accuracy: 0.8861\n",
      "Epoch 14/25\n",
      "469/469 [==============================] - 10s 20ms/step - loss: 0.2025 - accuracy: 0.9244 - val_loss: 0.3342 - val_accuracy: 0.8823\n",
      "Epoch 15/25\n",
      "469/469 [==============================] - 10s 20ms/step - loss: 0.1968 - accuracy: 0.9264 - val_loss: 0.3305 - val_accuracy: 0.8868\n",
      "Epoch 16/25\n",
      "469/469 [==============================] - 10s 21ms/step - loss: 0.1875 - accuracy: 0.9296 - val_loss: 0.3116 - val_accuracy: 0.8907\n",
      "Epoch 17/25\n",
      "469/469 [==============================] - 10s 20ms/step - loss: 0.1798 - accuracy: 0.9319 - val_loss: 0.3167 - val_accuracy: 0.8918\n",
      "Epoch 18/25\n",
      "469/469 [==============================] - 9s 20ms/step - loss: 0.1711 - accuracy: 0.9355 - val_loss: 0.3250 - val_accuracy: 0.8915\n",
      "Epoch 19/25\n",
      "469/469 [==============================] - 10s 20ms/step - loss: 0.1687 - accuracy: 0.9367 - val_loss: 0.3354 - val_accuracy: 0.8862\n",
      "Epoch 20/25\n",
      "469/469 [==============================] - 9s 20ms/step - loss: 0.1613 - accuracy: 0.9388 - val_loss: 0.3397 - val_accuracy: 0.8845\n",
      "Epoch 21/25\n",
      "469/469 [==============================] - 10s 21ms/step - loss: 0.1607 - accuracy: 0.9389 - val_loss: 0.3196 - val_accuracy: 0.8946\n",
      "Epoch 22/25\n",
      "469/469 [==============================] - 11s 23ms/step - loss: 0.1481 - accuracy: 0.9447 - val_loss: 0.3517 - val_accuracy: 0.8856\n",
      "Epoch 23/25\n",
      "469/469 [==============================] - 10s 20ms/step - loss: 0.1421 - accuracy: 0.9465 - val_loss: 0.3388 - val_accuracy: 0.8912\n",
      "Epoch 24/25\n",
      "469/469 [==============================] - 11s 23ms/step - loss: 0.1401 - accuracy: 0.9471 - val_loss: 0.3603 - val_accuracy: 0.8922\n",
      "Epoch 25/25\n",
      "469/469 [==============================] - 10s 22ms/step - loss: 0.1372 - accuracy: 0.9480 - val_loss: 0.3278 - val_accuracy: 0.8952\n",
      "\n",
      "Final training accuracy - 5 Layer model  0.9479666948318481\n",
      "\n",
      "Final validation accuracy - 5 Layer model  0.8952000141143799\n"
     ]
    }
   ],
   "source": [
    "## 5 layered model\n",
    "\n",
    "\n",
    "t0 = time.time()\n",
    "model_5L = Sequential() # Declare a Sequential model\n",
    "\n",
    "#Layer 1\n",
    "model_5L.add(Dense(512, input_shape=(784,))) # Add a dense input layer of 512 units\n",
    "                                        # The input shape is (784,) because the features are 784 dimensional vectors\n",
    "model_5L.add(Activation('relu')) # Apply ReLu activation function to the layer output\n",
    "\n",
    "#Layer 2\n",
    "model_5L.add(Dense(512)) # Add 1st hidden layer of 512 units\n",
    "model_5L.add(Activation('relu'))\n",
    "\n",
    "#Layer 3\n",
    "model_5L.add(Dense(384)) # Add 2nd hidden layer of 384 units\n",
    "model_5L.add(Activation('relu'))\n",
    "\n",
    "#Layer 4\n",
    "model_5L.add(Dense(288)) # Add 3rd hidden layer of 288 units\n",
    "model_5L.add(Activation('relu'))\n",
    "\n",
    "#Layer 5\n",
    "model_5L.add(Dense(num_classes)) # Add an output layer of 10 units, the number of classes\n",
    "model_5L.add(Activation('softmax')) # The \"softmax\" activation ensures the output is a valid probability distribution\n",
    "t1 = time.time()\n",
    "\n",
    "sgd_optimizer = keras.optimizers.SGD(learning_rate=0.01, momentum=0.9)\n",
    "model_5L.compile(loss='categorical_crossentropy', optimizer=sgd_optimizer, metrics=['accuracy'])\n",
    "\n",
    "history_5L = model_5L.fit(X_train,\n",
    "                    Y_train,\n",
    "                    batch_size=128,\n",
    "                    epochs=25,\n",
    "                    verbose=1,\n",
    "                    validation_data=(X_test,Y_test))\n",
    "\n",
    "total = t1-t0\n",
    "total\n",
    "\n",
    "print('\\nFinal training accuracy - 5 Layer model ', history_5L.history['accuracy'][-1])\n",
    "print('\\nFinal validation accuracy - 5 Layer model ', history_5L.history['val_accuracy'][-1])"
   ]
  },
  {
   "cell_type": "code",
   "execution_count": 319,
   "id": "506d8a55",
   "metadata": {},
   "outputs": [
    {
     "name": "stdout",
     "output_type": "stream",
     "text": [
      "313/313 [==============================] - 2s 6ms/step - loss: 0.3278 - accuracy: 0.8952\n",
      "[0.327836275100708, 0.8952000141143799]\n"
     ]
    }
   ],
   "source": [
    "model_5L_eval = model_5L.evaluate(X_test, Y_test)\n",
    "print(model_5L_eval)"
   ]
  },
  {
   "cell_type": "markdown",
   "id": "e7fa513d",
   "metadata": {},
   "source": [
    "### Plotting training and validation accuracy for model architectures comparison"
   ]
  },
  {
   "cell_type": "code",
   "execution_count": 320,
   "id": "135d818c",
   "metadata": {},
   "outputs": [
    {
     "data": {
      "image/png": "[encoded data removed]",
      "text/plain": [
       "<Figure size 1080x360 with 3 Axes>"
      ]
     },
     "metadata": {
      "needs_background": "light"
     },
     "output_type": "display_data"
    }
   ],
   "source": [
    "fig, axs = plt.subplots(ncols=3, figsize=(15, 5))\n",
    "\n",
    "sns.lineplot(x=range(1,1+len(history.history['accuracy'])), y=history.history['accuracy'], ax=axs[0])\n",
    "sns.lineplot(x=range(1,1+len(history.history['val_accuracy'])), y=history.history['val_accuracy'], ax=axs[0])\n",
    "axs[0].set_title(\"4.1 Base architecture - 4 layers\", color='blue')\n",
    "axs[0].set_xlabel('Epochs')\n",
    "axs[0].set_ylabel('Accuracy')\n",
    "\n",
    "sns.lineplot(x=range(1,1+len(history_3L.history['accuracy'])), y=history_3L.history['accuracy'], ax=axs[1])\n",
    "sns.lineplot(x=range(1,1+len(history_3L.history['val_accuracy'])), y=history_3L.history['val_accuracy'], ax=axs[1])\n",
    "axs[1].set_title(\"8.1 Architecture - 3 Layers \", color='red')\n",
    "axs[1].set_xlabel('Epochs')\n",
    "axs[1].set_ylabel('Accuracy')\n",
    "\n",
    "sns.lineplot(x=range(1,1+len(history_5L.history['accuracy'])), y=history_5L.history['accuracy'], ax=axs[2])\n",
    "sns.lineplot(x=range(1,1+len(history_5L.history['val_accuracy'])), y=history_5L.history['val_accuracy'], ax=axs[2])\n",
    "axs[2].set_title(\"8.2 Architecture - 5 Layers\", color='green')\n",
    "axs[2].set_xlabel('Epochs')\n",
    "axs[2].set_ylabel('Accuracy')\n",
    "\n",
    "plt.show()"
   ]
  },
  {
   "cell_type": "markdown",
   "id": "d8d38cb0",
   "metadata": {
    "id": "d8d38cb0"
   },
   "source": [
    "# 9. Regularisations\n"
   ]
  },
  {
   "cell_type": "markdown",
   "id": "2224c0b0",
   "metadata": {},
   "source": [
    "# 9.1 : Architecture with dropout of ratio 0.25"
   ]
  },
  {
   "cell_type": "markdown",
   "id": "f6bc29f9",
   "metadata": {},
   "source": [
    "### Basic Model changed with dropout of ratio 0.25 applied to input and hidden layers"
   ]
  },
  {
   "cell_type": "code",
   "execution_count": 321,
   "id": "7497b710",
   "metadata": {
    "colab": {
     "base_uri": "https://localhost:8080/"
    },
    "id": "7497b710",
    "outputId": "0ed5f981-4f47-4466-997b-64c490ab02d7"
   },
   "outputs": [
    {
     "name": "stdout",
     "output_type": "stream",
     "text": [
      "Epoch 1/25\n",
      "469/469 [==============================] - 10s 20ms/step - loss: 0.6518 - accuracy: 0.7712 - val_loss: 0.4613 - val_accuracy: 0.8361\n",
      "Epoch 2/25\n",
      "469/469 [==============================] - 9s 19ms/step - loss: 0.4326 - accuracy: 0.8461 - val_loss: 0.4159 - val_accuracy: 0.8508\n",
      "Epoch 3/25\n",
      "469/469 [==============================] - 10s 22ms/step - loss: 0.3836 - accuracy: 0.8602 - val_loss: 0.3987 - val_accuracy: 0.8549\n",
      "Epoch 4/25\n",
      "469/469 [==============================] - 11s 24ms/step - loss: 0.3608 - accuracy: 0.8692 - val_loss: 0.3954 - val_accuracy: 0.8566\n",
      "Epoch 5/25\n",
      "469/469 [==============================] - 9s 19ms/step - loss: 0.3396 - accuracy: 0.8751 - val_loss: 0.3659 - val_accuracy: 0.8664\n",
      "Epoch 6/25\n",
      "469/469 [==============================] - 10s 22ms/step - loss: 0.3278 - accuracy: 0.8791 - val_loss: 0.3558 - val_accuracy: 0.8689\n",
      "Epoch 7/25\n",
      "469/469 [==============================] - 9s 20ms/step - loss: 0.3113 - accuracy: 0.8850 - val_loss: 0.3718 - val_accuracy: 0.8649\n",
      "Epoch 8/25\n",
      "469/469 [==============================] - 9s 20ms/step - loss: 0.3026 - accuracy: 0.8883 - val_loss: 0.3320 - val_accuracy: 0.8808\n",
      "Epoch 9/25\n",
      "469/469 [==============================] - 9s 20ms/step - loss: 0.2918 - accuracy: 0.8911 - val_loss: 0.3565 - val_accuracy: 0.8676\n",
      "Epoch 10/25\n",
      "469/469 [==============================] - 9s 20ms/step - loss: 0.2845 - accuracy: 0.8944 - val_loss: 0.3347 - val_accuracy: 0.8772\n",
      "Epoch 11/25\n",
      "469/469 [==============================] - 10s 22ms/step - loss: 0.2761 - accuracy: 0.8974 - val_loss: 0.3393 - val_accuracy: 0.8782\n",
      "Epoch 12/25\n",
      "469/469 [==============================] - 10s 21ms/step - loss: 0.2702 - accuracy: 0.8992 - val_loss: 0.3268 - val_accuracy: 0.8837\n",
      "Epoch 13/25\n",
      "469/469 [==============================] - 9s 20ms/step - loss: 0.2606 - accuracy: 0.9024 - val_loss: 0.3222 - val_accuracy: 0.8809\n",
      "Epoch 14/25\n",
      "469/469 [==============================] - 9s 20ms/step - loss: 0.2558 - accuracy: 0.9037 - val_loss: 0.3228 - val_accuracy: 0.8856\n",
      "Epoch 15/25\n",
      "469/469 [==============================] - 9s 20ms/step - loss: 0.2500 - accuracy: 0.9068 - val_loss: 0.3117 - val_accuracy: 0.8862\n",
      "Epoch 16/25\n",
      "469/469 [==============================] - 9s 20ms/step - loss: 0.2441 - accuracy: 0.9067 - val_loss: 0.3102 - val_accuracy: 0.8892\n",
      "Epoch 17/25\n",
      "469/469 [==============================] - 9s 20ms/step - loss: 0.2386 - accuracy: 0.9109 - val_loss: 0.3206 - val_accuracy: 0.8879\n",
      "Epoch 18/25\n",
      "469/469 [==============================] - 9s 20ms/step - loss: 0.2334 - accuracy: 0.9119 - val_loss: 0.3128 - val_accuracy: 0.8891\n",
      "Epoch 19/25\n",
      "469/469 [==============================] - 9s 20ms/step - loss: 0.2301 - accuracy: 0.9134 - val_loss: 0.3170 - val_accuracy: 0.8884\n",
      "Epoch 20/25\n",
      "469/469 [==============================] - 11s 23ms/step - loss: 0.2242 - accuracy: 0.9157 - val_loss: 0.3265 - val_accuracy: 0.8877\n",
      "Epoch 21/25\n",
      "469/469 [==============================] - 10s 22ms/step - loss: 0.2225 - accuracy: 0.9160 - val_loss: 0.3193 - val_accuracy: 0.8884\n",
      "Epoch 22/25\n",
      "469/469 [==============================] - 11s 22ms/step - loss: 0.2168 - accuracy: 0.9174 - val_loss: 0.3143 - val_accuracy: 0.8891\n",
      "Epoch 23/25\n",
      "469/469 [==============================] - 10s 22ms/step - loss: 0.2094 - accuracy: 0.9201 - val_loss: 0.3088 - val_accuracy: 0.8938\n",
      "Epoch 24/25\n",
      "469/469 [==============================] - 10s 21ms/step - loss: 0.2105 - accuracy: 0.9203 - val_loss: 0.3021 - val_accuracy: 0.8903\n",
      "Epoch 25/25\n",
      "469/469 [==============================] - 9s 20ms/step - loss: 0.2052 - accuracy: 0.9225 - val_loss: 0.3084 - val_accuracy: 0.8964\n"
     ]
    },
    {
     "data": {
      "text/plain": [
       "244.43420028686523"
      ]
     },
     "execution_count": 321,
     "metadata": {},
     "output_type": "execute_result"
    }
   ],
   "source": [
    "t0 = time.time()\n",
    "model_droppped = Sequential() # Declare a Sequential model\n",
    "\n",
    "#Layer 1\n",
    "model_droppped.add(Dense(512, input_shape=(784,))) # Add a dense input layer of 512 units\n",
    "                                        # The input shape is (784,) because the features are 784 dimensional vectors\n",
    "model_droppped.add(Activation('relu')) # Apply ReLu activation function to the layer output\n",
    "model_droppped.add(Dropout(0.25)) # Dropout helps prevent the model from overfitting on the training data\n",
    "\n",
    "#Layer 2\n",
    "model_droppped.add(Dense(512)) # Add 1st hidden layer of 512 units\n",
    "model_droppped.add(Activation('relu'))\n",
    "model.add(Dropout(0.25)) # Dropout added\n",
    "\n",
    "#Layer 3\n",
    "model_droppped.add(Dense(384)) # Add 2nd hidden layer of 384 units\n",
    "model_droppped.add(Activation('relu'))\n",
    "model.add(Dropout(0.25))  # Dropout added\n",
    "\n",
    "#Layer 4\n",
    "model_droppped.add(Dense(num_classes)) # Add an output layer of 10 units, the number of classes\n",
    "model_droppped.add(Activation('softmax')) # The \"softmax\" activation ensures the output is a valid probability distribution\n",
    "t1 = time.time()\n",
    "\n",
    "total = t1-t0\n",
    "total\n",
    "\n",
    "sgd_optimizer = keras.optimizers.SGD(learning_rate=0.01, momentum=0.9)\n",
    "\n",
    "model_droppped.compile(loss='categorical_crossentropy', optimizer= sgd_optimizer, metrics=['accuracy'])\n",
    "\n",
    "t0 = time.time()\n",
    "history_dropped = model_droppped.fit(X_train,\n",
    "                    Y_train,\n",
    "                    batch_size=128,\n",
    "                    epochs=25,\n",
    "                    verbose=1,\n",
    "                    validation_data=(X_test,Y_test))\n",
    "\n",
    "\n",
    "t1 = time.time()\n",
    "\n",
    "\n",
    "total = t1-t0\n",
    "total"
   ]
  },
  {
   "cell_type": "code",
   "execution_count": 322,
   "id": "C0t-Hrc4ykzs",
   "metadata": {
    "colab": {
     "base_uri": "https://localhost:8080/"
    },
    "id": "C0t-Hrc4ykzs",
    "outputId": "78d8cf8b-4084-4242-ad20-c3ac24c366ee"
   },
   "outputs": [
    {
     "name": "stdout",
     "output_type": "stream",
     "text": [
      "313/313 [==============================] - 1s 5ms/step - loss: 0.3084 - accuracy: 0.8964\n"
     ]
    }
   ],
   "source": [
    "dropped_eval = model_droppped.evaluate(X_test, Y_test)"
   ]
  },
  {
   "cell_type": "markdown",
   "id": "feadaf3b",
   "metadata": {},
   "source": [
    "# 9.2 : Architecture with dropout of ratio 0.25 & L2 regulariser with factor 1e−04."
   ]
  },
  {
   "cell_type": "markdown",
   "id": "28945652",
   "metadata": {},
   "source": [
    "### Basic Model changed with dropout of ratio 0.25 applied to input and hidden layers and L2 regulariser with factor 1e−04 applied to hidden layers"
   ]
  },
  {
   "cell_type": "code",
   "execution_count": 323,
   "id": "9dtFna0X2UdT",
   "metadata": {
    "colab": {
     "base_uri": "https://localhost:8080/"
    },
    "id": "9dtFna0X2UdT",
    "outputId": "2d224f28-7248-44a4-c424-a2f72d2181cf"
   },
   "outputs": [
    {
     "name": "stdout",
     "output_type": "stream",
     "text": [
      "Epoch 1/25\n",
      "469/469 [==============================] - 11s 23ms/step - loss: 0.8060 - accuracy: 0.7487 - val_loss: 0.5706 - val_accuracy: 0.8249\n",
      "Epoch 2/25\n",
      "469/469 [==============================] - 11s 23ms/step - loss: 0.5528 - accuracy: 0.8376 - val_loss: 0.5346 - val_accuracy: 0.8371\n",
      "Epoch 3/25\n",
      "469/469 [==============================] - 10s 22ms/step - loss: 0.5053 - accuracy: 0.8509 - val_loss: 0.4858 - val_accuracy: 0.8539\n",
      "Epoch 4/25\n",
      "469/469 [==============================] - 10s 22ms/step - loss: 0.4772 - accuracy: 0.8618 - val_loss: 0.4752 - val_accuracy: 0.8610\n",
      "Epoch 5/25\n",
      "469/469 [==============================] - 11s 23ms/step - loss: 0.4541 - accuracy: 0.8695 - val_loss: 0.4602 - val_accuracy: 0.8653\n",
      "Epoch 6/25\n",
      "469/469 [==============================] - 11s 22ms/step - loss: 0.4371 - accuracy: 0.8739 - val_loss: 0.4457 - val_accuracy: 0.8715\n",
      "Epoch 7/25\n",
      "469/469 [==============================] - 10s 22ms/step - loss: 0.4238 - accuracy: 0.8776 - val_loss: 0.4510 - val_accuracy: 0.8693\n",
      "Epoch 8/25\n",
      "469/469 [==============================] - 11s 23ms/step - loss: 0.4088 - accuracy: 0.8811 - val_loss: 0.4258 - val_accuracy: 0.8756\n",
      "Epoch 9/25\n",
      "469/469 [==============================] - 11s 22ms/step - loss: 0.4014 - accuracy: 0.8835 - val_loss: 0.4202 - val_accuracy: 0.8794\n",
      "Epoch 10/25\n",
      "469/469 [==============================] - 11s 23ms/step - loss: 0.3896 - accuracy: 0.8875 - val_loss: 0.4206 - val_accuracy: 0.8787\n",
      "Epoch 11/25\n",
      "469/469 [==============================] - 11s 23ms/step - loss: 0.3800 - accuracy: 0.8903 - val_loss: 0.4171 - val_accuracy: 0.8814\n",
      "Epoch 12/25\n",
      "469/469 [==============================] - 11s 23ms/step - loss: 0.3718 - accuracy: 0.8920 - val_loss: 0.4093 - val_accuracy: 0.8824\n",
      "Epoch 13/25\n",
      "469/469 [==============================] - 11s 24ms/step - loss: 0.3639 - accuracy: 0.8945 - val_loss: 0.4115 - val_accuracy: 0.8800\n",
      "Epoch 14/25\n",
      "469/469 [==============================] - 11s 24ms/step - loss: 0.3562 - accuracy: 0.8965 - val_loss: 0.3972 - val_accuracy: 0.8872\n",
      "Epoch 15/25\n",
      "469/469 [==============================] - 11s 23ms/step - loss: 0.3492 - accuracy: 0.9001 - val_loss: 0.4043 - val_accuracy: 0.8852\n",
      "Epoch 16/25\n",
      "469/469 [==============================] - 11s 24ms/step - loss: 0.3407 - accuracy: 0.9019 - val_loss: 0.4124 - val_accuracy: 0.8791\n",
      "Epoch 17/25\n",
      "469/469 [==============================] - 11s 24ms/step - loss: 0.3370 - accuracy: 0.9026 - val_loss: 0.3956 - val_accuracy: 0.8845\n",
      "Epoch 18/25\n",
      "469/469 [==============================] - 11s 23ms/step - loss: 0.3316 - accuracy: 0.9039 - val_loss: 0.3911 - val_accuracy: 0.8858\n",
      "Epoch 19/25\n",
      "469/469 [==============================] - 11s 24ms/step - loss: 0.3246 - accuracy: 0.9057 - val_loss: 0.3836 - val_accuracy: 0.8921\n",
      "Epoch 20/25\n",
      "469/469 [==============================] - 11s 23ms/step - loss: 0.3215 - accuracy: 0.9079 - val_loss: 0.3919 - val_accuracy: 0.8854\n",
      "Epoch 21/25\n",
      "469/469 [==============================] - 11s 24ms/step - loss: 0.3137 - accuracy: 0.9101 - val_loss: 0.3857 - val_accuracy: 0.8861\n",
      "Epoch 22/25\n",
      "469/469 [==============================] - 11s 24ms/step - loss: 0.3102 - accuracy: 0.9112 - val_loss: 0.3744 - val_accuracy: 0.8915\n",
      "Epoch 23/25\n",
      "469/469 [==============================] - 11s 24ms/step - loss: 0.3045 - accuracy: 0.9116 - val_loss: 0.3858 - val_accuracy: 0.8895\n",
      "Epoch 24/25\n",
      "469/469 [==============================] - 11s 24ms/step - loss: 0.2981 - accuracy: 0.9154 - val_loss: 0.3679 - val_accuracy: 0.8930\n",
      "Epoch 25/25\n",
      "469/469 [==============================] - 11s 24ms/step - loss: 0.2952 - accuracy: 0.9148 - val_loss: 0.3864 - val_accuracy: 0.8903\n"
     ]
    },
    {
     "data": {
      "text/plain": [
       "273.0602946281433"
      ]
     },
     "execution_count": 323,
     "metadata": {},
     "output_type": "execute_result"
    }
   ],
   "source": [
    "# Dropped L2\n",
    "\n",
    "t0 = time.time()\n",
    "model_droppped_l2 = Sequential() # Declare a Sequential model\n",
    "\n",
    "#Layer 1\n",
    "model_droppped_l2.add(Dense(512, input_shape=(784,))) # Add a dense input layer of 512 units\n",
    "                                        # The input shape is (784,) because the features are 784 dimensional vectors\n",
    "model_droppped_l2.add(Activation('relu')) # Apply ReLu activation function to the layer output\n",
    "model_droppped_l2.add(Dropout(0.25)) # Dropout helps prevent the model from overfitting on the training data\n",
    "\n",
    "#Layer 2\n",
    "model_droppped_l2.add(Dense(512,kernel_regularizer=keras.regularizers.l2(1e-04))) # Regularizer added\n",
    "model_droppped_l2.add(Activation('relu'))\n",
    "model_droppped_l2.add(Dropout(0.25)) # Dropout added\n",
    "\n",
    "#Layer 3\n",
    "model_droppped_l2.add(Dense(384,kernel_regularizer=keras.regularizers.l2(1e-04))) # Regularizer added\n",
    "model_droppped_l2.add(Activation('relu'))\n",
    "model_droppped_l2.add(Dropout(0.25))  # Dropout added\n",
    "\n",
    "#Layer 4\n",
    "model_droppped_l2.add(Dense(num_classes)) # Add an output layer of 10 units, the number of classes\n",
    "model_droppped_l2.add(Activation('softmax')) # The \"softmax\" activation ensures the output is a valid probability distribution\n",
    "t1 = time.time()\n",
    "\n",
    "total = t1-t0\n",
    "total\n",
    "\n",
    "\n",
    "sgd_optimizer = keras.optimizers.SGD(learning_rate=0.01, momentum=0.9)\n",
    "\n",
    "model_droppped_l2.compile(loss='categorical_crossentropy', optimizer=sgd_optimizer, metrics=['accuracy'])\n",
    "\n",
    "t0 = time.time()\n",
    "history_dropped_l2 = model_droppped_l2.fit(X_train,\n",
    "                    Y_train,\n",
    "                    batch_size=128,\n",
    "                    epochs=25,\n",
    "                    verbose=1,\n",
    "                    validation_data=(X_test,Y_test))\n",
    "\n",
    "\n",
    "t1 = time.time()\n",
    "\n",
    "\n",
    "total = t1-t0\n",
    "total\n"
   ]
  },
  {
   "cell_type": "code",
   "execution_count": 324,
   "id": "79FFU5tE2vMV",
   "metadata": {
    "colab": {
     "base_uri": "https://localhost:8080/"
    },
    "id": "79FFU5tE2vMV",
    "outputId": "d1652376-a787-495b-fa43-71f5b5ff283d"
   },
   "outputs": [
    {
     "name": "stdout",
     "output_type": "stream",
     "text": [
      "313/313 [==============================] - 1s 5ms/step - loss: 0.3864 - accuracy: 0.8902\n"
     ]
    }
   ],
   "source": [
    "dropped_l2_eval = model_droppped_l2.evaluate(X_test, Y_test)"
   ]
  },
  {
   "cell_type": "markdown",
   "id": "8b414ddd",
   "metadata": {},
   "source": [
    "### Plotting training and validation accuracy for model architectures comparison"
   ]
  },
  {
   "cell_type": "code",
   "execution_count": 326,
   "id": "9eD28fMFvqtV",
   "metadata": {
    "colab": {
     "base_uri": "https://localhost:8080/",
     "height": 486
    },
    "id": "9eD28fMFvqtV",
    "outputId": "153a3dc3-c5c2-4739-b666-d78f987e7aff"
   },
   "outputs": [
    {
     "data": {
      "image/png": "[encoded data removed]",
      "text/plain": [
       "<Figure size 1080x360 with 3 Axes>"
      ]
     },
     "metadata": {
      "needs_background": "light"
     },
     "output_type": "display_data"
    }
   ],
   "source": [
    "import matplotlib.pyplot as plt\n",
    "import seaborn as sns\n",
    "\n",
    "# fig, axs = plt.subplots(ncols=3)\n",
    "fig, axs = plt.subplots(ncols=3, figsize=(15, 5))\n",
    "\n",
    "sns.lineplot(x=range(1,1+len(history.history['accuracy'])), y=history.history['accuracy'], ax=axs[0])\n",
    "sns.lineplot(x=range(1,1+len(history.history['val_accuracy'])), y=history.history['val_accuracy'], ax=axs[0])\n",
    "axs[0].set_title(\"4.1 Base architecture\", color='blue')\n",
    "axs[0].set_xlabel('Epochs')\n",
    "axs[0].set_ylabel('Accuracy')\n",
    "\n",
    "sns.lineplot(x=range(1,1+len(history_dropped.history['accuracy'])), y=history_dropped.history['accuracy'], ax=axs[1])\n",
    "sns.lineplot(x=range(1,1+len(history_dropped.history['val_accuracy'])), y=history_dropped.history['val_accuracy'], ax=axs[1])\n",
    "axs[1].set_title(\"9.1 Dropout of ratio 0.25\", color='red')\n",
    "axs[1].set_xlabel('Epochs')\n",
    "axs[1].set_ylabel('Accuracy')\n",
    "\n",
    "sns.lineplot(x=range(1,1+len(history_dropped_l2.history['accuracy'])), y=history_dropped_l2.history['accuracy'], ax=axs[2])\n",
    "sns.lineplot(x=range(1,1+len(history_dropped_l2.history['val_accuracy'])), y=history_dropped_l2.history['val_accuracy'], ax=axs[2])\n",
    "axs[2].set_title(\"9.2 Dropout of ratio=0.25 L2 regulariser=1e−04\", color='green')\n",
    "axs[2].set_xlabel('Epochs')\n",
    "axs[2].set_ylabel('Accuracy')\n",
    "\n",
    "plt.show()"
   ]
  },
  {
   "cell_type": "markdown",
   "id": "6529c4a9",
   "metadata": {
    "id": "6529c4a9"
   },
   "source": [
    "# 10. Optimisers"
   ]
  },
  {
   "cell_type": "markdown",
   "id": "ac0539bb",
   "metadata": {},
   "source": [
    "## 10.1 : RMSProp optimizer"
   ]
  },
  {
   "cell_type": "markdown",
   "id": "a5140e45",
   "metadata": {},
   "source": [
    "### Basic Model changed to have optimizer as RMSProp"
   ]
  },
  {
   "cell_type": "code",
   "execution_count": 338,
   "id": "9bf06eb1",
   "metadata": {
    "colab": {
     "base_uri": "https://localhost:8080/"
    },
    "id": "9bf06eb1",
    "outputId": "d048d495-913d-4db4-bed4-29798903126d"
   },
   "outputs": [
    {
     "name": "stdout",
     "output_type": "stream",
     "text": [
      "Epoch 1/25\n",
      "469/469 [==============================] - 13s 25ms/step - loss: 1.5239 - accuracy: 0.7121 - val_loss: 0.5222 - val_accuracy: 0.8143\n",
      "Epoch 2/25\n",
      "469/469 [==============================] - 11s 24ms/step - loss: 0.5101 - accuracy: 0.8179 - val_loss: 0.4885 - val_accuracy: 0.8368\n",
      "Epoch 3/25\n",
      "469/469 [==============================] - 11s 24ms/step - loss: 0.4661 - accuracy: 0.8355 - val_loss: 0.5946 - val_accuracy: 0.7960\n",
      "Epoch 4/25\n",
      "469/469 [==============================] - 11s 23ms/step - loss: 0.4411 - accuracy: 0.8457 - val_loss: 0.5093 - val_accuracy: 0.8288\n",
      "Epoch 5/25\n",
      "469/469 [==============================] - 11s 23ms/step - loss: 0.4295 - accuracy: 0.8527 - val_loss: 0.4378 - val_accuracy: 0.8526\n",
      "Epoch 6/25\n",
      "469/469 [==============================] - 11s 23ms/step - loss: 0.4149 - accuracy: 0.8542 - val_loss: 0.4752 - val_accuracy: 0.8425\n",
      "Epoch 7/25\n",
      "469/469 [==============================] - 11s 23ms/step - loss: 0.4087 - accuracy: 0.8587 - val_loss: 0.5023 - val_accuracy: 0.8418\n",
      "Epoch 8/25\n",
      "469/469 [==============================] - 11s 23ms/step - loss: 0.4074 - accuracy: 0.8598 - val_loss: 0.4613 - val_accuracy: 0.8448\n",
      "Epoch 9/25\n",
      "469/469 [==============================] - 11s 23ms/step - loss: 0.4047 - accuracy: 0.8607 - val_loss: 0.4848 - val_accuracy: 0.8590\n",
      "Epoch 10/25\n",
      "469/469 [==============================] - 11s 23ms/step - loss: 0.4033 - accuracy: 0.8616 - val_loss: 0.5275 - val_accuracy: 0.8490\n",
      "Epoch 11/25\n",
      "469/469 [==============================] - 11s 23ms/step - loss: 0.3978 - accuracy: 0.8642 - val_loss: 0.5391 - val_accuracy: 0.8572\n",
      "Epoch 12/25\n",
      "469/469 [==============================] - 11s 24ms/step - loss: 0.3924 - accuracy: 0.8654 - val_loss: 0.5552 - val_accuracy: 0.8281\n",
      "Epoch 13/25\n",
      "469/469 [==============================] - 11s 24ms/step - loss: 0.3919 - accuracy: 0.8656 - val_loss: 0.4975 - val_accuracy: 0.8529\n",
      "Epoch 14/25\n",
      "469/469 [==============================] - 11s 24ms/step - loss: 0.3870 - accuracy: 0.8658 - val_loss: 0.4852 - val_accuracy: 0.8464\n",
      "Epoch 15/25\n",
      "469/469 [==============================] - 11s 24ms/step - loss: 0.3869 - accuracy: 0.8667 - val_loss: 0.4853 - val_accuracy: 0.8556\n",
      "Epoch 16/25\n",
      "469/469 [==============================] - 11s 24ms/step - loss: 0.3936 - accuracy: 0.8660 - val_loss: 0.6246 - val_accuracy: 0.7972\n",
      "Epoch 17/25\n",
      "469/469 [==============================] - 12s 25ms/step - loss: 0.3886 - accuracy: 0.8673 - val_loss: 0.5134 - val_accuracy: 0.8547\n",
      "Epoch 18/25\n",
      "469/469 [==============================] - 12s 25ms/step - loss: 0.3829 - accuracy: 0.8692 - val_loss: 0.5427 - val_accuracy: 0.8454\n",
      "Epoch 19/25\n",
      "469/469 [==============================] - 12s 26ms/step - loss: 0.3820 - accuracy: 0.8712 - val_loss: 0.5147 - val_accuracy: 0.8611\n",
      "Epoch 20/25\n",
      "469/469 [==============================] - 12s 25ms/step - loss: 0.3801 - accuracy: 0.8694 - val_loss: 0.5463 - val_accuracy: 0.8313\n",
      "Epoch 21/25\n",
      "469/469 [==============================] - 12s 26ms/step - loss: 0.3813 - accuracy: 0.8719 - val_loss: 0.5278 - val_accuracy: 0.8534\n",
      "Epoch 22/25\n",
      "469/469 [==============================] - 12s 25ms/step - loss: 0.3726 - accuracy: 0.8721 - val_loss: 0.5750 - val_accuracy: 0.8532\n",
      "Epoch 23/25\n",
      "469/469 [==============================] - 11s 24ms/step - loss: 0.3773 - accuracy: 0.8701 - val_loss: 0.5573 - val_accuracy: 0.8553\n",
      "Epoch 24/25\n",
      "469/469 [==============================] - 11s 23ms/step - loss: 0.3786 - accuracy: 0.8706 - val_loss: 0.6631 - val_accuracy: 0.8302\n",
      "Epoch 25/25\n",
      "469/469 [==============================] - 13s 27ms/step - loss: 0.3737 - accuracy: 0.8718 - val_loss: 0.6233 - val_accuracy: 0.8477\n"
     ]
    }
   ],
   "source": [
    "model_rms = Sequential() # Declare a Sequential model\n",
    "\n",
    "#Layer 1\n",
    "model_rms.add(Dense(512, input_shape=(784,))) # Add a dense input layer of 512 units\n",
    "                                        # The input shape is (784,) because the features are 784 dimensional vectors\n",
    "model_rms.add(Activation('relu')) # Apply ReLu activation function to the layer output\n",
    "\n",
    "#Layer 2\n",
    "model_rms.add(Dense(512)) # Add 1st hidden layer of 512 units\n",
    "model_rms.add(Activation('relu'))\n",
    "\n",
    "\n",
    "#Layer 3\n",
    "model_rms.add(Dense(384)) # Add 2nd hidden layer of 384 units\n",
    "model_rms.add(Activation('relu'))\n",
    "\n",
    "\n",
    "#Layer 4\n",
    "model_rms.add(Dense(num_classes)) # Add an output layer of 10 units, the number of classes\n",
    "model_rms.add(Activation('softmax')) # The \"softmax\" activation ensures the output is a valid probability distribution\n",
    "t1 = time.time()\n",
    "\n",
    "rms_optimizer = keras.optimizers.RMSprop(learning_rate=0.01)\n",
    "\n",
    "model_rms.compile(loss='categorical_crossentropy', optimizer=rms_optimizer, metrics=['accuracy'])\n",
    "\n",
    "history_rms = model_rms.fit(X_train,\n",
    "                    Y_train,\n",
    "                    batch_size=128,\n",
    "                    epochs=25,\n",
    "                    verbose=1,\n",
    "                    validation_data=(X_test,Y_test))"
   ]
  },
  {
   "cell_type": "code",
   "execution_count": 339,
   "id": "ZpA8XHhIDoQ_",
   "metadata": {
    "colab": {
     "base_uri": "https://localhost:8080/"
    },
    "id": "ZpA8XHhIDoQ_",
    "outputId": "4185f48d-2705-4e16-9c48-f81c566aacbc"
   },
   "outputs": [
    {
     "name": "stdout",
     "output_type": "stream",
     "text": [
      "313/313 [==============================] - 2s 6ms/step - loss: 0.6233 - accuracy: 0.8477\n"
     ]
    }
   ],
   "source": [
    "rms_eval = model_rms.evaluate(X_test, Y_test)"
   ]
  },
  {
   "cell_type": "markdown",
   "id": "078d9029",
   "metadata": {},
   "source": [
    "## 10.2 :  Adam optimizer"
   ]
  },
  {
   "cell_type": "markdown",
   "id": "c59552e8",
   "metadata": {},
   "source": [
    "### Basic Model changed to have optimizer as Adam"
   ]
  },
  {
   "cell_type": "code",
   "execution_count": 340,
   "id": "9fYzj6ppFVhC",
   "metadata": {
    "colab": {
     "background_save": true,
     "base_uri": "https://localhost:8080/"
    },
    "id": "9fYzj6ppFVhC",
    "outputId": "995eaebc-d1b2-4b6a-bc1c-9927d746d9da"
   },
   "outputs": [
    {
     "name": "stdout",
     "output_type": "stream",
     "text": [
      "Epoch 1/25\n",
      "469/469 [==============================] - 15s 29ms/step - loss: 0.4736 - accuracy: 0.8293 - val_loss: 0.4440 - val_accuracy: 0.8421\n",
      "Epoch 2/25\n",
      "469/469 [==============================] - 13s 28ms/step - loss: 0.3532 - accuracy: 0.8715 - val_loss: 0.3673 - val_accuracy: 0.8663\n",
      "Epoch 3/25\n",
      "469/469 [==============================] - 14s 29ms/step - loss: 0.3174 - accuracy: 0.8822 - val_loss: 0.3518 - val_accuracy: 0.8729\n",
      "Epoch 4/25\n",
      "469/469 [==============================] - 15s 33ms/step - loss: 0.2941 - accuracy: 0.8905 - val_loss: 0.3586 - val_accuracy: 0.8712\n",
      "Epoch 5/25\n",
      "469/469 [==============================] - 14s 31ms/step - loss: 0.2745 - accuracy: 0.8976 - val_loss: 0.3631 - val_accuracy: 0.8681\n",
      "Epoch 6/25\n",
      "469/469 [==============================] - 14s 30ms/step - loss: 0.2603 - accuracy: 0.9010 - val_loss: 0.3278 - val_accuracy: 0.8816\n",
      "Epoch 7/25\n",
      "469/469 [==============================] - 13s 29ms/step - loss: 0.2455 - accuracy: 0.9072 - val_loss: 0.3294 - val_accuracy: 0.8842\n",
      "Epoch 8/25\n",
      "469/469 [==============================] - 14s 30ms/step - loss: 0.2361 - accuracy: 0.9104 - val_loss: 0.3429 - val_accuracy: 0.8813\n",
      "Epoch 9/25\n",
      "469/469 [==============================] - 15s 32ms/step - loss: 0.2251 - accuracy: 0.9147 - val_loss: 0.3315 - val_accuracy: 0.8879\n",
      "Epoch 10/25\n",
      "469/469 [==============================] - 15s 32ms/step - loss: 0.2182 - accuracy: 0.9163 - val_loss: 0.3285 - val_accuracy: 0.8810\n",
      "Epoch 11/25\n",
      "469/469 [==============================] - 16s 34ms/step - loss: 0.2049 - accuracy: 0.9214 - val_loss: 0.3154 - val_accuracy: 0.8962\n",
      "Epoch 12/25\n",
      "469/469 [==============================] - 16s 33ms/step - loss: 0.1997 - accuracy: 0.9239 - val_loss: 0.3178 - val_accuracy: 0.8893\n",
      "Epoch 13/25\n",
      "469/469 [==============================] - 15s 32ms/step - loss: 0.1887 - accuracy: 0.9270 - val_loss: 0.3390 - val_accuracy: 0.8900\n",
      "Epoch 14/25\n",
      "469/469 [==============================] - 13s 28ms/step - loss: 0.1816 - accuracy: 0.9294 - val_loss: 0.3415 - val_accuracy: 0.8910\n",
      "Epoch 15/25\n",
      "469/469 [==============================] - 14s 30ms/step - loss: 0.1785 - accuracy: 0.9316 - val_loss: 0.3483 - val_accuracy: 0.8927\n",
      "Epoch 16/25\n",
      "469/469 [==============================] - 13s 28ms/step - loss: 0.1709 - accuracy: 0.9344 - val_loss: 0.3442 - val_accuracy: 0.8960\n",
      "Epoch 17/25\n",
      "469/469 [==============================] - 13s 28ms/step - loss: 0.1644 - accuracy: 0.9363 - val_loss: 0.3552 - val_accuracy: 0.8968\n",
      "Epoch 18/25\n",
      "469/469 [==============================] - 13s 28ms/step - loss: 0.1536 - accuracy: 0.9403 - val_loss: 0.3589 - val_accuracy: 0.8954\n",
      "Epoch 19/25\n",
      "469/469 [==============================] - 13s 28ms/step - loss: 0.1484 - accuracy: 0.9422 - val_loss: 0.3678 - val_accuracy: 0.8910\n",
      "Epoch 20/25\n",
      "469/469 [==============================] - 14s 29ms/step - loss: 0.1410 - accuracy: 0.9448 - val_loss: 0.3831 - val_accuracy: 0.8929\n",
      "Epoch 21/25\n",
      "469/469 [==============================] - 13s 29ms/step - loss: 0.1385 - accuracy: 0.9467 - val_loss: 0.3985 - val_accuracy: 0.8940\n",
      "Epoch 22/25\n",
      "469/469 [==============================] - 13s 28ms/step - loss: 0.1342 - accuracy: 0.9473 - val_loss: 0.4121 - val_accuracy: 0.8880\n",
      "Epoch 23/25\n",
      "469/469 [==============================] - 13s 29ms/step - loss: 0.1251 - accuracy: 0.9507 - val_loss: 0.4164 - val_accuracy: 0.8951\n",
      "Epoch 24/25\n",
      "469/469 [==============================] - 13s 29ms/step - loss: 0.1229 - accuracy: 0.9522 - val_loss: 0.4594 - val_accuracy: 0.8913\n",
      "Epoch 25/25\n",
      "469/469 [==============================] - 13s 29ms/step - loss: 0.1212 - accuracy: 0.9522 - val_loss: 0.4433 - val_accuracy: 0.8882\n",
      "313/313 [==============================] - 2s 5ms/step - loss: 0.4433 - accuracy: 0.8882\n"
     ]
    }
   ],
   "source": [
    "model_adam = Sequential() # Declare a Sequential model\n",
    "\n",
    "#Layer 1\n",
    "model_adam.add(Dense(512, input_shape=(784,))) # Add a dense input layer of 512 units\n",
    "                                        # The input shape is (784,) because the features are 784 dimensional vectors\n",
    "model_adam.add(Activation('relu')) # Apply ReLu activation function to the layer output\n",
    "\n",
    "#Layer 2\n",
    "model_adam.add(Dense(512)) # Add 1st hidden layer of 512 units\n",
    "model_adam.add(Activation('relu'))\n",
    "\n",
    "\n",
    "#Layer 3\n",
    "model_adam.add(Dense(384)) # Add 2nd hidden layer of 384 units\n",
    "model_adam.add(Activation('relu'))\n",
    "\n",
    "\n",
    "#Layer 4\n",
    "model_adam.add(Dense(num_classes)) # Add an output layer of 10 units, the number of classes\n",
    "model_adam.add(Activation('softmax')) # The \"softmax\" activation ensures the output is a valid probability distribution\n",
    "t1 = time.time()\n",
    "\n",
    "\n",
    "adam_optimizer = keras.optimizers.Adam(\n",
    "    learning_rate=0.001,  # Learning rate\n",
    "    beta_1=0.9,  # Exponential decay rate for the first moment estimates\n",
    "    beta_2=0.999,  # Exponential decay rate for the second moment estimates\n",
    "    epsilon=1e-07,  # Small value to prevent division by zero\n",
    "    amsgrad=False  # Whether to apply AMSGrad variant of Adam optimizer\n",
    ")\n",
    "model_adam.compile(optimizer=adam_optimizer, loss='categorical_crossentropy', metrics=['accuracy'])\n",
    "history_adam = model_adam.fit(X_train,\n",
    "                    Y_train,\n",
    "                    batch_size=128,\n",
    "                    epochs=25,\n",
    "                    verbose=1,\n",
    "                    validation_data=(X_test,Y_test))\n",
    "\n",
    "adam_eval = model_adam.evaluate(X_test, Y_test)"
   ]
  },
  {
   "cell_type": "code",
   "execution_count": 341,
   "id": "830470a2",
   "metadata": {},
   "outputs": [],
   "source": [
    "### Plotting training and validation accuracy for model architectures comparison"
   ]
  },
  {
   "cell_type": "code",
   "execution_count": 342,
   "id": "ri1T6yeyH-zs",
   "metadata": {
    "colab": {
     "background_save": true
    },
    "id": "ri1T6yeyH-zs",
    "outputId": "a2473722-4957-4c7d-ba82-56b39858f467"
   },
   "outputs": [
    {
     "data": {
      "image/png": "[encoded data removed]",
      "text/plain": [
       "<Figure size 1080x360 with 3 Axes>"
      ]
     },
     "metadata": {
      "needs_background": "light"
     },
     "output_type": "display_data"
    }
   ],
   "source": [
    "fig, axs = plt.subplots(ncols=3, figsize=(15, 5))\n",
    "\n",
    "sns.lineplot(x=range(1,1+len(history.history['accuracy'])), y=history.history['accuracy'], ax=axs[0])\n",
    "sns.lineplot(x=range(1,1+len(history.history['val_accuracy'])), y=history.history['val_accuracy'], ax=axs[0])\n",
    "axs[0].set_title(\"4.1 Base architecture\", color='blue')\n",
    "axs[0].set_xlabel('Epochs')\n",
    "axs[0].set_ylabel('Accuracy')\n",
    "\n",
    "sns.lineplot(x=range(1,1+len(history_rms.history['accuracy'])), y=history_rms.history['accuracy'], ax=axs[1])\n",
    "sns.lineplot(x=range(1,1+len(history_rms.history['val_accuracy'])), y=history_rms.history['val_accuracy'], ax=axs[1])\n",
    "axs[1].set_title(\"10.1 With RMS Optimizer\", color='red')\n",
    "axs[1].set_xlabel('Epochs')\n",
    "axs[1].set_ylabel('Accuracy')\n",
    "\n",
    "sns.lineplot(x=range(1,1+len(history_adam.history['accuracy'])), y=history_adam.history['accuracy'], ax=axs[2])\n",
    "sns.lineplot(x=range(1,1+len(history_adam.history['val_accuracy'])), y=history_adam.history['val_accuracy'], ax=axs[2])\n",
    "axs[2].set_title(\"10.2 With Adam Optimizer\", color='green')\n",
    "axs[2].set_xlabel('Epochs')\n",
    "axs[2].set_ylabel('Accuracy')\n",
    "\n",
    "\n",
    "plt.show()"
   ]
  },
  {
   "cell_type": "markdown",
   "id": "7c7522aa",
   "metadata": {
    "id": "7c7522aa"
   },
   "source": [
    "# 11. Conclusion"
   ]
  },
  {
   "cell_type": "code",
   "execution_count": 343,
   "id": "EXgIcxWdIwVE",
   "metadata": {
    "colab": {
     "background_save": true
    },
    "id": "EXgIcxWdIwVE",
    "outputId": "22ecdc06-7658-4e62-c0b7-99e7e3f2eec8"
   },
   "outputs": [
    {
     "name": "stdout",
     "output_type": "stream",
     "text": [
      "\n",
      " Evaluation Accuracy - Basic Model :  0.8896999955177307\n",
      "\n",
      " Evaluation Accuracy - 3 Layer Model :  0.8899000287055969\n",
      "\n",
      " Evaluation Accuracy - 5 Layer Model :  0.8952000141143799\n",
      "\n",
      " Evaluation Accuracy - Dropout included :  0.896399974822998\n",
      "\n",
      " Evaluation Accuracy - Dropout & L2 Regularization included:  0.8902000188827515\n",
      "\n",
      " Evaluation Accuracy - RMSProp optimizer:  0.8476999998092651\n",
      "\n",
      " Evaluation Accuracy - Adam optimizer:  0.8881999850273132\n"
     ]
    }
   ],
   "source": [
    "data = [model_eval[1], model_3L_eval[1], model_5L_eval[1], dropped_eval[1], dropped_l2_eval[1], rms_eval[1],adam_eval[1]]\n",
    "\n",
    "print('\\n Evaluation Accuracy - Basic Model : ', data[0])\n",
    "print('\\n Evaluation Accuracy - 3 Layer Model : ', data[1])\n",
    "print('\\n Evaluation Accuracy - 5 Layer Model : ', data[2])\n",
    "print('\\n Evaluation Accuracy - Dropout included : ', data[3])\n",
    "print('\\n Evaluation Accuracy - Dropout & L2 Regularization included: ', data[4])\n",
    "print('\\n Evaluation Accuracy - RMSProp optimizer: ', data[5])\n",
    "print('\\n Evaluation Accuracy - Adam optimizer: ', data[6])\n"
   ]
  },
  {
   "cell_type": "markdown",
   "id": "fa89e3e0",
   "metadata": {
    "colab": {
     "background_save": true
    },
    "id": "bc51130d"
   },
   "source": [
    "## Below are the conclusions : \n",
    "\n",
    "1. Increasing hidden layers to the basic model improved the acccuracy of the model. 5 layer model perrformed the best.\n",
    "\n",
    "\n",
    "2. Adding dropout to basic model improved the accuracy, which was expected as dropout prevents overfitting.\n",
    "\n",
    "\n",
    "3. Adding L2 Regularization in addition to dropout did not had much impact on performance of the model.\n",
    "\n",
    "\n",
    "4. RMSprop and Adam optimizers when used in the basic model resulted into lower performance then SGD optimizer.\n",
    "\n",
    "\n",
    "5. Overall, we think 5 or more layer model with dropout included could be deliver best performance!\n",
    "\n",
    "\n",
    "Thank You!!!\n"
   ]
  }
 ],
 "metadata": {
  "colab": {
   "provenance": []
  },
  "kernelspec": {
   "display_name": "Python 3 (ipykernel)",
   "language": "python",
   "name": "python3"
  },
  "language_info": {
   "codemirror_mode": {
    "name": "ipython",
    "version": 3
   },
   "file_extension": ".py",
   "mimetype": "text/x-python",
   "name": "python",
   "nbconvert_exporter": "python",
   "pygments_lexer": "ipython3",
   "version": "3.9.12"
  }
 },
 "nbformat": 4,
 "nbformat_minor": 5
}
