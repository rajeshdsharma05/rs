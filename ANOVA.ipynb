{
 "cells": [
  {
   "cell_type": "code",
   "execution_count": 1,
   "id": "af71f190",
   "metadata": {},
   "outputs": [],
   "source": [
    "import pandas as pd\n",
    "import numpy as np\n",
    "from scipy.stats import f"
   ]
  },
  {
   "cell_type": "code",
   "execution_count": 2,
   "id": "03fa1813",
   "metadata": {},
   "outputs": [],
   "source": [
    "def one_way_ANOVA(data, alpha = 0.05):\n",
    "\n",
    "    df = pd.DataFrame(data)\n",
    "\n",
    "    print(f'Data:\\n{df}')\n",
    "\n",
    "    # Group means\n",
    "    group_means = df.mean()\n",
    "    print(f'\\nGroup Means: \\n{group_means}')\n",
    "\n",
    "    # Grand mean\n",
    "    grand_mean = df.values.mean()\n",
    "    print(f'\\nGrand Mean:{grand_mean}')\n",
    "\n",
    "    # Sum of Squares Between (SSB)\n",
    "    ssb = ((group_means - grand_mean)**2 * len(df)).sum()\n",
    "    print(f'Sum of Squares Between (SSB): {ssb}')\n",
    "\n",
    "    # Sum of Squares Within (SSW)\n",
    "    ssw = ((df - group_means)**2).values.sum()\n",
    "    print(f'Sum of Squares Within (SSW): {ssw}')\n",
    "\n",
    "    # Mean Square Between (MSB)\n",
    "    msb = ssb / (len(df.columns) - 1)\n",
    "    print(f'Mean Square Between (MSB): {msb}')\n",
    "\n",
    "    # Mean Square Within (MSW)\n",
    "    msw = ssw / (df.values.size - len(df.columns))\n",
    "    print(f'Mean Square Within (MSW): {msw}')\n",
    "\n",
    "    # F-statistic\n",
    "    f_statistic = msb / msw\n",
    "\n",
    "    # F-critical value\n",
    "    alpha = 0.05\n",
    "    dfn = len(df.columns) - 1\n",
    "    dfd = df.values.size - len(df.columns)\n",
    "    f_critical = f.ppf(1 - alpha, dfn, dfd)\n",
    "\n",
    "    print(f\"\\nF-statistic: {f_statistic}\")\n",
    "    print(f\"\\nF-critical value at alpha = {alpha}: {f_critical}\")\n",
    "\n",
    "    if f_statistic > f_critical:\n",
    "        print(\"\\nReject null hypothesis: since F-observed > F-critical\")\n",
    "    else:\n",
    "        print(\"\\nFail to reject null hypothesis since F-observed < F-critical\")"
   ]
  },
  {
   "cell_type": "code",
   "execution_count": 3,
   "id": "3cc0aa51",
   "metadata": {},
   "outputs": [
    {
     "name": "stdout",
     "output_type": "stream",
     "text": [
      "Data:\n",
      "   Brand A  Brand B  Brand C  Brand D\n",
      "0     11.5     19.5     18.5     30.0\n",
      "1     12.5     18.5     16.5     26.5\n",
      "2     18.5     16.0     24.5     27.0\n",
      "3     21.0     22.0     30.0     34.0\n",
      "4     28.0     30.0     28.5     20.0\n",
      "5     26.0     24.5     14.0     22.5\n",
      "6     14.0     19.0     19.0     28.0\n",
      "7     22.0     24.0     17.0     32.0\n",
      "8     20.0     19.5     18.0     27.0\n",
      "9     22.0     15.0     29.0     25.5\n",
      "\n",
      "Group Means: \n",
      "Brand A    19.55\n",
      "Brand B    20.80\n",
      "Brand C    21.50\n",
      "Brand D    27.25\n",
      "dtype: float64\n",
      "\n",
      "Grand Mean:22.275\n",
      "Sum of Squares Between (SSB): 349.5249999999999\n",
      "Sum of Squares Within (SSW): 922.95\n",
      "Mean Square Between (MSB): 116.50833333333331\n",
      "Mean Square Within (MSW): 25.637500000000003\n",
      "\n",
      "F-statistic: 4.544449861856004\n",
      "\n",
      "F-critical value at alpha = 0.05: 2.86626555094018\n",
      "\n",
      "Reject null hypothesis: since F-observed > F-critical\n"
     ]
    }
   ],
   "source": [
    "# Data\n",
    "\n",
    "data = {'Brand A': [11.5,12.5,18.5,21,28,26,14,22,20,22],\n",
    "        'Brand B': [19.5,18.5,16,22,30,24.5,19,24,19.5,15],\n",
    "        'Brand C': [18.5,16.5,24.5,30,28.5,14,19,17,18,29],\n",
    "        'Brand D': [30,26.5,27,34,20,22.5,28,32,27,25.5]\n",
    "       }\n",
    "\n",
    "one_way_ANOVA(data)"
   ]
  },
  {
   "cell_type": "code",
   "execution_count": null,
   "id": "a7b10e82",
   "metadata": {},
   "outputs": [],
   "source": []
  }
 ],
 "metadata": {
  "kernelspec": {
   "display_name": "Python 3 (ipykernel)",
   "language": "python",
   "name": "python3"
  },
  "language_info": {
   "codemirror_mode": {
    "name": "ipython",
    "version": 3
   },
   "file_extension": ".py",
   "mimetype": "text/x-python",
   "name": "python",
   "nbconvert_exporter": "python",
   "pygments_lexer": "ipython3",
   "version": "3.9.12"
  }
 },
 "nbformat": 4,
 "nbformat_minor": 5
}
