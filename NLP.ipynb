{
 "cells": [
  {
   "cell_type": "markdown",
   "metadata": {
    "id": "nWtYJOfuVMLz"
   },
   "source": [
    "**Preprocess the dataset by tokenizing the text data, removing stopwords, converting it to numerical representations, and splitting it into training, validation, and test sets.(2 Marks)**"
   ]
  },
  {
   "cell_type": "code",
   "execution_count": 1,
   "metadata": {
    "colab": {
     "base_uri": "https://localhost:8080/",
     "height": 337
    },
    "id": "tubIeaXCUTth",
    "outputId": "2c38d0d7-ff5b-4e42-c189-fcc3f5d37c35"
   },
   "outputs": [
    {
     "data": {
      "text/html": [
       "<div>\n",
       "<style scoped>\n",
       "    .dataframe tbody tr th:only-of-type {\n",
       "        vertical-align: middle;\n",
       "    }\n",
       "\n",
       "    .dataframe tbody tr th {\n",
       "        vertical-align: top;\n",
       "    }\n",
       "\n",
       "    .dataframe thead th {\n",
       "        text-align: right;\n",
       "    }\n",
       "</style>\n",
       "<table border=\"1\" class=\"dataframe\">\n",
       "  <thead>\n",
       "    <tr style=\"text-align: right;\">\n",
       "      <th></th>\n",
       "      <th>course_code</th>\n",
       "      <th>course_title</th>\n",
       "      <th>num_ratings</th>\n",
       "      <th>useful</th>\n",
       "      <th>easy</th>\n",
       "      <th>liked</th>\n",
       "      <th>num_reviews</th>\n",
       "      <th>reviews</th>\n",
       "      <th>course_rating</th>\n",
       "      <th>course_rating_int</th>\n",
       "    </tr>\n",
       "  </thead>\n",
       "  <tbody>\n",
       "    <tr>\n",
       "      <th>0</th>\n",
       "      <td>CS 115</td>\n",
       "      <td>Introduction to Computer Science 1</td>\n",
       "      <td>2111</td>\n",
       "      <td>21%</td>\n",
       "      <td>10%</td>\n",
       "      <td>23%</td>\n",
       "      <td>86</td>\n",
       "      <td>go to office hours and practice</td>\n",
       "      <td>liked course</td>\n",
       "      <td>1.0</td>\n",
       "    </tr>\n",
       "    <tr>\n",
       "      <th>1</th>\n",
       "      <td>CS 115</td>\n",
       "      <td>Introduction to Computer Science 1</td>\n",
       "      <td>2111</td>\n",
       "      <td>21%</td>\n",
       "      <td>10%</td>\n",
       "      <td>23%</td>\n",
       "      <td>86</td>\n",
       "      <td>One of my least favourite courses. Although th...</td>\n",
       "      <td>disliked course</td>\n",
       "      <td>0.0</td>\n",
       "    </tr>\n",
       "    <tr>\n",
       "      <th>2</th>\n",
       "      <td>CS 115</td>\n",
       "      <td>Introduction to Computer Science 1</td>\n",
       "      <td>2111</td>\n",
       "      <td>21%</td>\n",
       "      <td>10%</td>\n",
       "      <td>23%</td>\n",
       "      <td>86</td>\n",
       "      <td>It starts with a very low pace but after midte...</td>\n",
       "      <td>disliked course</td>\n",
       "      <td>0.0</td>\n",
       "    </tr>\n",
       "    <tr>\n",
       "      <th>3</th>\n",
       "      <td>CS 115</td>\n",
       "      <td>Introduction to Computer Science 1</td>\n",
       "      <td>2111</td>\n",
       "      <td>21%</td>\n",
       "      <td>10%</td>\n",
       "      <td>23%</td>\n",
       "      <td>86</td>\n",
       "      <td>Took this in 2018 with no programming experien...</td>\n",
       "      <td>liked course</td>\n",
       "      <td>1.0</td>\n",
       "    </tr>\n",
       "    <tr>\n",
       "      <th>4</th>\n",
       "      <td>CS 115</td>\n",
       "      <td>Introduction to Computer Science 1</td>\n",
       "      <td>2111</td>\n",
       "      <td>21%</td>\n",
       "      <td>10%</td>\n",
       "      <td>23%</td>\n",
       "      <td>86</td>\n",
       "      <td>I loved everything about cs 115. Great instruc...</td>\n",
       "      <td>liked course</td>\n",
       "      <td>1.0</td>\n",
       "    </tr>\n",
       "  </tbody>\n",
       "</table>\n",
       "</div>"
      ],
      "text/plain": [
       "  course_code                        course_title  num_ratings useful easy  \\\n",
       "0      CS 115  Introduction to Computer Science 1         2111    21%  10%   \n",
       "1      CS 115  Introduction to Computer Science 1         2111    21%  10%   \n",
       "2      CS 115  Introduction to Computer Science 1         2111    21%  10%   \n",
       "3      CS 115  Introduction to Computer Science 1         2111    21%  10%   \n",
       "4      CS 115  Introduction to Computer Science 1         2111    21%  10%   \n",
       "\n",
       "  liked  num_reviews                                            reviews  \\\n",
       "0   23%           86                    go to office hours and practice   \n",
       "1   23%           86  One of my least favourite courses. Although th...   \n",
       "2   23%           86  It starts with a very low pace but after midte...   \n",
       "3   23%           86  Took this in 2018 with no programming experien...   \n",
       "4   23%           86  I loved everything about cs 115. Great instruc...   \n",
       "\n",
       "     course_rating  course_rating_int  \n",
       "0     liked course                1.0  \n",
       "1  disliked course                0.0  \n",
       "2  disliked course                0.0  \n",
       "3     liked course                1.0  \n",
       "4     liked course                1.0  "
      ]
     },
     "execution_count": 1,
     "metadata": {},
     "output_type": "execute_result"
    }
   ],
   "source": [
    "import pandas as pd\n",
    "url = 'https://raw.githubusercontent.com/AsimKarel/datasets/main/course_data_clean.csv'\n",
    "df = pd.read_csv(url)\n",
    "df.head()"
   ]
  },
  {
   "cell_type": "code",
   "execution_count": 2,
   "metadata": {
    "colab": {
     "base_uri": "https://localhost:8080/"
    },
    "id": "XPSSTYPkk9Cg",
    "outputId": "9b4428de-adf2-47ed-98a2-38f7b4b4b5f3"
   },
   "outputs": [
    {
     "data": {
      "text/plain": [
       "array(['liked course', 'disliked course', nan], dtype=object)"
      ]
     },
     "execution_count": 2,
     "metadata": {},
     "output_type": "execute_result"
    }
   ],
   "source": [
    "df['course_rating'].unique()"
   ]
  },
  {
   "cell_type": "code",
   "execution_count": 3,
   "metadata": {
    "colab": {
     "base_uri": "https://localhost:8080/",
     "height": 484
    },
    "id": "Nm13GNAB1cv_",
    "outputId": "df53d4fe-1c9d-461e-a049-3b76c8f31271"
   },
   "outputs": [
    {
     "data": {
      "image/png": "[encoded data removed]",
      "text/plain": [
       "<Figure size 432x288 with 1 Axes>"
      ]
     },
     "metadata": {
      "needs_background": "light"
     },
     "output_type": "display_data"
    }
   ],
   "source": [
    "import matplotlib.pyplot as plt\n",
    "import numpy as np\n",
    "plt.bar(range(len(df['course_rating'].unique())), [df['course_rating'].value_counts()['liked course'],\n",
    "                                                   df['course_rating'].value_counts()['disliked course'],\n",
    "                                                   df['course_rating'].isna().sum()], color ='maroon',\n",
    "        width = 0.4)\n",
    "\n",
    "plt.xticks(np.arange(0,2,1))\n",
    "plt.show()"
   ]
  },
  {
   "cell_type": "code",
   "execution_count": 4,
   "metadata": {
    "colab": {
     "base_uri": "https://localhost:8080/",
     "height": 337
    },
    "id": "cfXMysW_mCRi",
    "outputId": "15dc04df-055b-4010-8c8a-7c661954915c"
   },
   "outputs": [
    {
     "data": {
      "text/html": [
       "<div>\n",
       "<style scoped>\n",
       "    .dataframe tbody tr th:only-of-type {\n",
       "        vertical-align: middle;\n",
       "    }\n",
       "\n",
       "    .dataframe tbody tr th {\n",
       "        vertical-align: top;\n",
       "    }\n",
       "\n",
       "    .dataframe thead th {\n",
       "        text-align: right;\n",
       "    }\n",
       "</style>\n",
       "<table border=\"1\" class=\"dataframe\">\n",
       "  <thead>\n",
       "    <tr style=\"text-align: right;\">\n",
       "      <th></th>\n",
       "      <th>course_code</th>\n",
       "      <th>course_title</th>\n",
       "      <th>num_ratings</th>\n",
       "      <th>useful</th>\n",
       "      <th>easy</th>\n",
       "      <th>liked</th>\n",
       "      <th>num_reviews</th>\n",
       "      <th>reviews</th>\n",
       "      <th>course_rating</th>\n",
       "      <th>course_rating_int</th>\n",
       "    </tr>\n",
       "  </thead>\n",
       "  <tbody>\n",
       "    <tr>\n",
       "      <th>0</th>\n",
       "      <td>CS 115</td>\n",
       "      <td>Introduction to Computer Science 1</td>\n",
       "      <td>2111</td>\n",
       "      <td>21%</td>\n",
       "      <td>10%</td>\n",
       "      <td>23%</td>\n",
       "      <td>86</td>\n",
       "      <td>go to office hours and practice</td>\n",
       "      <td>liked course</td>\n",
       "      <td>1.0</td>\n",
       "    </tr>\n",
       "    <tr>\n",
       "      <th>3</th>\n",
       "      <td>CS 115</td>\n",
       "      <td>Introduction to Computer Science 1</td>\n",
       "      <td>2111</td>\n",
       "      <td>21%</td>\n",
       "      <td>10%</td>\n",
       "      <td>23%</td>\n",
       "      <td>86</td>\n",
       "      <td>Took this in 2018 with no programming experien...</td>\n",
       "      <td>liked course</td>\n",
       "      <td>1.0</td>\n",
       "    </tr>\n",
       "    <tr>\n",
       "      <th>4</th>\n",
       "      <td>CS 115</td>\n",
       "      <td>Introduction to Computer Science 1</td>\n",
       "      <td>2111</td>\n",
       "      <td>21%</td>\n",
       "      <td>10%</td>\n",
       "      <td>23%</td>\n",
       "      <td>86</td>\n",
       "      <td>I loved everything about cs 115. Great instruc...</td>\n",
       "      <td>liked course</td>\n",
       "      <td>1.0</td>\n",
       "    </tr>\n",
       "    <tr>\n",
       "      <th>5</th>\n",
       "      <td>CS 115</td>\n",
       "      <td>Introduction to Computer Science 1</td>\n",
       "      <td>2111</td>\n",
       "      <td>21%</td>\n",
       "      <td>10%</td>\n",
       "      <td>23%</td>\n",
       "      <td>86</td>\n",
       "      <td>I recommend finding a course with a language t...</td>\n",
       "      <td>liked course</td>\n",
       "      <td>1.0</td>\n",
       "    </tr>\n",
       "    <tr>\n",
       "      <th>6</th>\n",
       "      <td>CS 115</td>\n",
       "      <td>Introduction to Computer Science 1</td>\n",
       "      <td>2111</td>\n",
       "      <td>21%</td>\n",
       "      <td>10%</td>\n",
       "      <td>23%</td>\n",
       "      <td>86</td>\n",
       "      <td>I really enjoyed this course online, being co-...</td>\n",
       "      <td>liked course</td>\n",
       "      <td>1.0</td>\n",
       "    </tr>\n",
       "  </tbody>\n",
       "</table>\n",
       "</div>"
      ],
      "text/plain": [
       "  course_code                        course_title  num_ratings useful easy  \\\n",
       "0      CS 115  Introduction to Computer Science 1         2111    21%  10%   \n",
       "3      CS 115  Introduction to Computer Science 1         2111    21%  10%   \n",
       "4      CS 115  Introduction to Computer Science 1         2111    21%  10%   \n",
       "5      CS 115  Introduction to Computer Science 1         2111    21%  10%   \n",
       "6      CS 115  Introduction to Computer Science 1         2111    21%  10%   \n",
       "\n",
       "  liked  num_reviews                                            reviews  \\\n",
       "0   23%           86                    go to office hours and practice   \n",
       "3   23%           86  Took this in 2018 with no programming experien...   \n",
       "4   23%           86  I loved everything about cs 115. Great instruc...   \n",
       "5   23%           86  I recommend finding a course with a language t...   \n",
       "6   23%           86  I really enjoyed this course online, being co-...   \n",
       "\n",
       "  course_rating  course_rating_int  \n",
       "0  liked course                1.0  \n",
       "3  liked course                1.0  \n",
       "4  liked course                1.0  \n",
       "5  liked course                1.0  \n",
       "6  liked course                1.0  "
      ]
     },
     "execution_count": 4,
     "metadata": {},
     "output_type": "execute_result"
    }
   ],
   "source": [
    "df_positive = df[df['course_rating'] == 'liked course'].head(5000)\n",
    "df_negative = df[df['course_rating'] == 'disliked course'].head(5000)\n",
    "df_small = pd.concat([df_positive, df_negative])\n",
    "df_small.head()"
   ]
  },
  {
   "cell_type": "code",
   "execution_count": 5,
   "metadata": {
    "colab": {
     "base_uri": "https://localhost:8080/",
     "height": 448
    },
    "id": "VRjAy_182gNR",
    "outputId": "033b79fe-050d-488c-a198-28369da11100"
   },
   "outputs": [
    {
     "data": {
      "image/png": "[encoded data removed]",
      "text/plain": [
       "<Figure size 432x288 with 1 Axes>"
      ]
     },
     "metadata": {
      "needs_background": "light"
     },
     "output_type": "display_data"
    }
   ],
   "source": [
    "plt.bar(range(len(df_small['course_rating'].unique())), [df_small['course_rating'].value_counts()['liked course'],\n",
    "                                                   df_small['course_rating'].value_counts()['disliked course']], color ='maroon',\n",
    "        width = 0.4)\n",
    "plt.show()"
   ]
  },
  {
   "cell_type": "code",
   "execution_count": 6,
   "metadata": {
    "colab": {
     "base_uri": "https://localhost:8080/"
    },
    "id": "XiZcLP5riHuV",
    "outputId": "323c4f08-1ccc-4d55-ff47-e72153ef84f1"
   },
   "outputs": [
    {
     "name": "stderr",
     "output_type": "stream",
     "text": [
      "[nltk_data] Downloading package stopwords to\n",
      "[nltk_data]     C:\\Users\\LENOVO\\AppData\\Roaming\\nltk_data...\n",
      "[nltk_data]   Package stopwords is already up-to-date!\n"
     ]
    }
   ],
   "source": [
    "from nltk.corpus import stopwords\n",
    "import nltk\n",
    "nltk.download('stopwords')\n",
    "stop = stopwords.words('english')\n"
   ]
  },
  {
   "cell_type": "code",
   "execution_count": 7,
   "metadata": {
    "colab": {
     "base_uri": "https://localhost:8080/"
    },
    "id": "xgiKVgeBlCRL",
    "outputId": "b7163ac0-ad4d-4511-aa17-862e22f67f66"
   },
   "outputs": [
    {
     "data": {
      "text/plain": [
       "string[python]"
      ]
     },
     "execution_count": 7,
     "metadata": {},
     "output_type": "execute_result"
    }
   ],
   "source": [
    "df_small['reviews'] = df_small['reviews'].astype('string')\n",
    "df_small['reviews'].dtypes"
   ]
  },
  {
   "cell_type": "code",
   "execution_count": 8,
   "metadata": {
    "colab": {
     "base_uri": "https://localhost:8080/"
    },
    "id": "gS4ejWN0iVxz",
    "outputId": "7c620bc1-72fd-4d95-a341-e956d9926e9a"
   },
   "outputs": [
    {
     "data": {
      "text/plain": [
       "0                             go office hours practice\n",
       "3    Took 2018 programming experience ever. Started...\n",
       "4    I loved everything cs 115. Great instructors, ...\n",
       "5    I recommend finding course language actually u...\n",
       "6    I really enjoyed course online, co-taught 4 pr...\n",
       "Name: reviews_without_stopwords, dtype: object"
      ]
     },
     "execution_count": 8,
     "metadata": {},
     "output_type": "execute_result"
    }
   ],
   "source": [
    "df_small['reviews_without_stopwords'] = df_small['reviews'].apply(lambda x: ' '.join([word for word in (str(x)).split() if word not in (stop)]))\n",
    "df_small['reviews_without_stopwords'].head()"
   ]
  },
  {
   "cell_type": "code",
   "execution_count": 9,
   "metadata": {
    "colab": {
     "base_uri": "https://localhost:8080/"
    },
    "id": "yx63GPpjiiz5",
    "outputId": "fa85bbc0-ac75-4c94-9e78-603dc726a8b3"
   },
   "outputs": [
    {
     "data": {
      "text/plain": [
       "0                        [go, office, hours, practice]\n",
       "3    [took, programming, experience, ever, started,...\n",
       "4    [loved, everything, cs, great, instructors, fa...\n",
       "5    [recommend, finding, course, language, actuall...\n",
       "6    [really, enjoyed, course, online, co, taught, ...\n",
       "Name: tokenized_text, dtype: object"
      ]
     },
     "execution_count": 9,
     "metadata": {},
     "output_type": "execute_result"
    }
   ],
   "source": [
    "from gensim.utils import simple_preprocess\n",
    "df_small['tokenized_text'] = [simple_preprocess(line, deacc=True) for line in df_small['reviews_without_stopwords']]\n",
    "df_small['tokenized_text'].head()"
   ]
  },
  {
   "cell_type": "code",
   "execution_count": 10,
   "metadata": {
    "colab": {
     "base_uri": "https://localhost:8080/"
    },
    "id": "PRvlqI7q25Zd",
    "outputId": "a41ceb3b-61e9-4044-9e74-b1eef8243e47"
   },
   "outputs": [
    {
     "data": {
      "text/plain": [
       "Index(['course_code', 'course_title', 'num_ratings', 'useful', 'easy', 'liked',\n",
       "       'num_reviews', 'reviews', 'course_rating', 'course_rating_int',\n",
       "       'reviews_without_stopwords', 'tokenized_text'],\n",
       "      dtype='object')"
      ]
     },
     "execution_count": 10,
     "metadata": {},
     "output_type": "execute_result"
    }
   ],
   "source": [
    "df_small.columns"
   ]
  },
  {
   "cell_type": "code",
   "execution_count": 11,
   "metadata": {
    "colab": {
     "base_uri": "https://localhost:8080/"
    },
    "id": "cmssYqr3w9mK",
    "outputId": "3843ff8c-8557-40b2-bb16-cbc75cfba23f"
   },
   "outputs": [
    {
     "name": "stdout",
     "output_type": "stream",
     "text": [
      "Value counts for Train sentiments\n",
      "liked course       3480\n",
      "disliked course    3401\n",
      "Name: course_rating, dtype: int64\n",
      "Value counts for Test sentiments\n",
      "liked course       1520\n",
      "disliked course    1429\n",
      "Name: course_rating, dtype: int64\n",
      "<class 'pandas.core.frame.DataFrame'>\n",
      "<class 'pandas.core.series.Series'>\n",
      "   index course_code                     course_title  num_ratings useful  \\\n",
      "0   5326     SCI 238           Introductory Astronomy          208    31%   \n",
      "1    123    MATH 135  Algebra for Honours Mathematics         1186    84%   \n",
      "2   7542    BIOL 110             Introductory Zoology          102    63%   \n",
      "3   6803  JAPAN 101R            First-Year Japanese 1          125    89%   \n",
      "4   3302    MATH 127      Calculus 1 for the Sciences          427    75%   \n",
      "\n",
      "  easy liked  num_reviews                                            reviews  \\\n",
      "0  71%   71%           47  Assignments were hard but final exam was relat...   \n",
      "1  41%   78%          253  I have never thought of or seen math like this...   \n",
      "2  43%   78%           29  It was fun, but the material and questions wer...   \n",
      "3  75%   92%           27  Good course if you're genuinely looking to lea...   \n",
      "4  48%   52%           83  The course is almost a direct copy of high sch...   \n",
      "\n",
      "   course_rating_int                          reviews_without_stopwords  \\\n",
      "0                1.0        Assignments hard final exam relatively easy   \n",
      "1                1.0  I never thought seen math like high school. Be...   \n",
      "2                1.0  It fun, material questions way beyond would ex...   \n",
      "3                1.0  Good course genuinely looking learn Japanese w...   \n",
      "4                1.0  The course almost direct copy high school calc...   \n",
      "\n",
      "                                      tokenized_text  \n",
      "0  [assignments, hard, final, exam, relatively, e...  \n",
      "1  [never, thought, seen, math, like, high, schoo...  \n",
      "2  [it, fun, material, questions, way, beyond, wo...  \n",
      "3  [good, course, genuinely, looking, learn, japa...  \n",
      "4  [the, course, almost, direct, copy, high, scho...  \n"
     ]
    }
   ],
   "source": [
    "#Train test split\n",
    "\n",
    "\n",
    "from sklearn.model_selection import train_test_split\n",
    "# Train Test Split Function\n",
    "def split_train_test(df_small, test_size=0.3, shuffle_state=True):\n",
    "    X_train, X_test, Y_train, Y_test = train_test_split(df_small[['course_code', 'course_title', 'num_ratings',\n",
    "                                                                  'useful', 'easy', 'liked',\n",
    "                                                                  'num_reviews', 'reviews', 'course_rating_int',\n",
    "                                                                  'reviews_without_stopwords', 'tokenized_text']],\n",
    "                                                        df_small['course_rating'],\n",
    "                                                        shuffle=shuffle_state,\n",
    "                                                        test_size=test_size,\n",
    "                                                        random_state=15)\n",
    "    print(\"Value counts for Train sentiments\")\n",
    "    print(Y_train.value_counts())\n",
    "    print(\"Value counts for Test sentiments\")\n",
    "    print(Y_test.value_counts())\n",
    "    print(type(X_train))\n",
    "    print(type(Y_train))\n",
    "    X_train = X_train.reset_index()\n",
    "    X_test = X_test.reset_index()\n",
    "    Y_train = Y_train.to_frame()\n",
    "    Y_train = Y_train.reset_index()\n",
    "    Y_test = Y_test.to_frame()\n",
    "    Y_test = Y_test.reset_index()\n",
    "    print(X_train.head())\n",
    "    return X_train, X_test, Y_train, Y_test\n",
    "\n",
    "# Call the train_test_split\n",
    "X_train, X_test, Y_train, Y_test = split_train_test(df_small)\n",
    "\n",
    "\n",
    "\n"
   ]
  },
  {
   "cell_type": "markdown",
   "metadata": {
    "id": "HM71eEjQVPdL"
   },
   "source": [
    "**Build an FNN model using a deep learning framework of your choice (e.g., TensorFlow, PyTorch, Keras).(2 Marks)**"
   ]
  },
  {
   "cell_type": "code",
   "execution_count": 12,
   "metadata": {
    "id": "1dYyN2igkRc5"
   },
   "outputs": [],
   "source": [
    "import torch.nn as nn\n",
    "import torch.nn.functional as F\n",
    "import torch.optim as optim"
   ]
  },
  {
   "cell_type": "code",
   "execution_count": 13,
   "metadata": {
    "id": "9yU9FRzrVTYt"
   },
   "outputs": [],
   "source": [
    "class FeedforwardNeuralNetModel(nn.Module):\n",
    "    def __init__(self, input_dim, hidden_dim, output_dim):\n",
    "        super(FeedforwardNeuralNetModel, self).__init__()\n",
    "\n",
    "        # Linear function 1: vocab_size --> 500\n",
    "        self.fc1 = nn.Linear(input_dim, hidden_dim)\n",
    "        # Non-linearity 1\n",
    "        self.relu1 = nn.ReLU()\n",
    "\n",
    "        # Linear function 2: 500 --> 500\n",
    "        self.fc2 = nn.Linear(hidden_dim, hidden_dim)\n",
    "        # Non-linearity 2\n",
    "        self.relu2 = nn.ReLU()\n",
    "\n",
    "        # Linear function 3 (readout): 500 --> 3\n",
    "        self.fc3 = nn.Linear(hidden_dim, output_dim)\n",
    "\n",
    "    def forward(self, x):\n",
    "        # Linear function 1\n",
    "        out = self.fc1(x)\n",
    "        # Non-linearity 1\n",
    "        out = self.relu1(out)\n",
    "\n",
    "        # Linear function 2\n",
    "        out = self.fc2(out)\n",
    "        # Non-linearity 2\n",
    "        out = self.relu2(out)\n",
    "\n",
    "        # Linear function 3 (readout)\n",
    "        out = self.fc3(out)\n",
    "\n",
    "        return F.softmax(out, dim=1)"
   ]
  },
  {
   "cell_type": "code",
   "execution_count": 14,
   "metadata": {
    "colab": {
     "base_uri": "https://localhost:8080/"
    },
    "id": "YcWdHnstkZ6X",
    "outputId": "a039d1bd-d5f1-443c-c5b1-e3066e61b975"
   },
   "outputs": [
    {
     "name": "stdout",
     "output_type": "stream",
     "text": [
      "Dictionary without padding\n"
     ]
    }
   ],
   "source": [
    "from gensim import corpora\n",
    "# Function to return the dictionary either with padding word or without padding\n",
    "def make_dict(top_data_df_small, padding=True):\n",
    "    if padding:\n",
    "        print(\"Dictionary with padded token added\")\n",
    "        review_dict = corpora.Dictionary([['pad']])\n",
    "        review_dict.add_documents(top_data_df_small['tokenized_text'])\n",
    "    else:\n",
    "        print(\"Dictionary without padding\")\n",
    "        review_dict = corpora.Dictionary(df_small['tokenized_text'])\n",
    "    return review_dict\n",
    "\n",
    "# Make the dictionary without padding for the basic models\n",
    "review_dict = make_dict(df_small, padding=False)"
   ]
  },
  {
   "cell_type": "code",
   "execution_count": 15,
   "metadata": {
    "id": "m244TID75Kjo"
   },
   "outputs": [],
   "source": [
    "\n",
    "import torch\n",
    "VOCAB_SIZE = len(review_dict)\n",
    "NUM_LABELS = 3\n",
    "\n",
    "# Function to make bow vector to be used as input to network\n",
    "def make_bow_vector(review_dict, sentence):\n",
    "    vec = torch.zeros(VOCAB_SIZE, dtype=torch.float64, device=device)\n",
    "    for word in sentence:\n",
    "        vec[review_dict.token2id[word]] += 1\n",
    "    return vec.view(1, -1).float()"
   ]
  },
  {
   "cell_type": "code",
   "execution_count": 16,
   "metadata": {
    "id": "LknRFyEi5NRC"
   },
   "outputs": [],
   "source": [
    "# Function to get the output tensor\n",
    "\n",
    "device = torch.device(\"cuda\" if torch.cuda.is_available() else \"cpu\")\n",
    "def make_target(label):\n",
    "    if label == -1:\n",
    "        return torch.tensor([0], dtype=torch.long, device=device)\n",
    "    elif label == 0:\n",
    "        return torch.tensor([1], dtype=torch.long, device=device)\n",
    "    else:\n",
    "        return torch.tensor([2], dtype=torch.long, device=device)"
   ]
  },
  {
   "cell_type": "markdown",
   "metadata": {
    "id": "CqzoUiE7VT5B"
   },
   "source": [
    "**Train the FNN model using the training set, monitor its performance on the validation set, and tune the hyperparameters to optimize performance.(2 Marks)**"
   ]
  },
  {
   "cell_type": "code",
   "execution_count": null,
   "metadata": {
    "colab": {
     "base_uri": "https://localhost:8080/"
    },
    "id": "jvJ4mKK6VVmM",
    "outputId": "425cbe80-7359-4367-deea-d9f88bc7392b"
   },
   "outputs": [
    {
     "name": "stdout",
     "output_type": "stream",
     "text": [
      "Epoch completed: 25\n"
     ]
    }
   ],
   "source": [
    "\n",
    "VOCAB_SIZE = len(review_dict)\n",
    "\n",
    "input_dim = VOCAB_SIZE\n",
    "hidden_dim = 500\n",
    "output_dim = 3\n",
    "num_epochs = 100\n",
    "\n",
    "ff_nn_bow_model = FeedforwardNeuralNetModel(input_dim, hidden_dim, output_dim)\n",
    "ff_nn_bow_model.to(device)\n",
    "\n",
    "loss_function = nn.CrossEntropyLoss()\n",
    "optimizer = optim.SGD(ff_nn_bow_model.parameters(), lr=0.001)\n",
    "\n",
    "ffnn_loss_file_name = './ffnn_bow_class_big_loss_500_epoch_100_less_lr.csv'\n",
    "f = open(ffnn_loss_file_name,'w')\n",
    "f.write('iter, loss')\n",
    "f.write('\\n')\n",
    "losses = []\n",
    "iter = 0\n",
    "# Start training\n",
    "for epoch in range(num_epochs):\n",
    "    if (epoch+1) % 25 == 0:\n",
    "        print(\"Epoch completed: \" + str(epoch+1))\n",
    "    train_loss = 0\n",
    "    for index, row in X_train.iterrows():\n",
    "        # Clearing the accumulated gradients\n",
    "        optimizer.zero_grad()\n",
    "\n",
    "        # Make the bag of words vector for stemmed tokens\n",
    "        bow_vec = make_bow_vector(review_dict, row['tokenized_text'])\n",
    "\n",
    "        # Forward pass to get output\n",
    "        probs = ff_nn_bow_model(bow_vec)\n",
    "\n",
    "        # Get the target label\n",
    "        target = make_target(Y_train['course_rating'][index])\n",
    "\n",
    "        # Calculate Loss: softmax --> cross entropy loss\n",
    "        loss = loss_function(probs, target)\n",
    "        # Accumulating the loss over time\n",
    "        train_loss += loss.item()\n",
    "\n",
    "        # Getting gradients w.r.t. parameters\n",
    "        loss.backward()\n",
    "\n",
    "        # Updating parameters\n",
    "        optimizer.step()\n",
    "    f.write(str((epoch+1)) + \",\" + str(train_loss / len(X_train)))\n",
    "    f.write('\\n')\n",
    "    train_loss = 0\n",
    "\n",
    "f.close()"
   ]
  },
  {
   "cell_type": "code",
   "execution_count": null,
   "metadata": {
    "colab": {
     "base_uri": "https://localhost:8080/",
     "height": 206
    },
    "id": "LVTCfuNNZNz9",
    "outputId": "b154c285-bb5e-42fe-ead7-2e5a1431ea3c"
   },
   "outputs": [],
   "source": [
    "csv = pd.read_csv(\"./ffnn_bow_class_big_loss_500_epoch_100_less_lr.csv\")\n",
    "csv.head()"
   ]
  },
  {
   "cell_type": "markdown",
   "metadata": {
    "id": "Pr29KQ7jVV2B"
   },
   "source": [
    "**Evaluate the trained model on the test set and report the classification accuracy using appropriate evaluation metrics.(1 Marks)**"
   ]
  },
  {
   "cell_type": "code",
   "execution_count": null,
   "metadata": {
    "id": "yaQ6tZJOVXiI"
   },
   "outputs": [],
   "source": [
    "from sklearn.metrics import classification_report\n",
    "bow_ff_nn_predictions = []\n",
    "original_lables_ff_bow = []\n",
    "with torch.no_grad():\n",
    "    for index, row in X_test.iterrows():\n",
    "        bow_vec = make_bow_vector(review_dict, row['tokenized_text'])\n",
    "        probs = ff_nn_bow_model(bow_vec)\n",
    "        bow_ff_nn_predictions.append(torch.argmax(probs, dim=1).cpu().numpy()[0])\n",
    "        original_lables_ff_bow.append(make_target(Y_test['course_rating'][index]).cpu().numpy()[0])\n",
    "print(classification_report(original_lables_ff_bow,bow_ff_nn_predictions))\n",
    "ffnn_loss_df = pd.read_csv(ffnn_loss_file_name)\n",
    "print(len(ffnn_loss_df))\n",
    "print(ffnn_loss_df.columns)\n",
    "ffnn_plt_500_padding_100_epochs = ffnn_loss_df[' loss'].plot()\n",
    "fig = ffnn_plt_500_padding_100_epochs.get_figure()\n",
    "fig.savefig(\"ffnn_bow_loss_500_padding_100_epochs_less_lr.pdf\")"
   ]
  },
  {
   "cell_type": "markdown",
   "metadata": {
    "id": "ILqsLrtKVXyg"
   },
   "source": [
    "**Provide a comprehensive analysis of the model's performance, discussing any challenges encountered and potential improvements.(2 Marks)**"
   ]
  },
  {
   "cell_type": "markdown",
   "metadata": {
    "id": "GMZXnUM2Yyvn"
   },
   "source": [
    "Based on the classification report and training progress, we can analyze the performance of the model as follows:\n",
    "\n",
    "\n",
    "1. Performance Metrics:\n",
    "   - The classification report shows perfect precision, recall, and F1-score for the class labeled as 2, indicating that the model achieved 100% accuracy in predicting this class.\n",
    "   - The overall accuracy of the model on the entire dataset is also reported as 100%, indicating that all instances in the dataset were correctly classified by the model.\n",
    "\n",
    "2. Performance Analysis:\n",
    "   - The model's perfect precision, recall, and F1-score on the positive class (class 2) indicate that it successfully learned to identify instances belonging to this class.\n",
    "   - The high accuracy score suggests that the model performs extremely well on the given dataset and is capable of accurately predicting the target variable.\n",
    "\n",
    "Challenges:\n",
    "   1. Handling noisy or ambiguous text data\n",
    "   2. Dealing with imbalanced datasets\n",
    "   3. Finding the right balance between model complexity and generalization\n",
    "\n",
    "Potential Improvements:\n",
    "   1. Hyperparameter tuning can be performed to find the optimal configuration for the neural network model\n",
    "   2. Ensemble techniques, such as combining multiple models or training the same model with different initializations, can potentially improve the model's performance"
   ]
  },
  {
   "cell_type": "markdown",
   "metadata": {
    "id": "e2n45KztVZ55"
   },
   "source": [
    "**Discuss the interpretability of the model's predictions and analyze any insights gained from the sentiment analysis on the Course Reviews University of Waterloo Dataset.(1 Marks)**"
   ]
  },
  {
   "cell_type": "markdown",
   "metadata": {
    "id": "kotVqFSoY2zd"
   },
   "source": [
    "1.Feedforward Neural Network (FFNN) Model:\n",
    "-----------------------------------------------------------------\n",
    "\n",
    "A. The FFNN model used complex relationships between input features and sentiment labels. The interpretability of such models is generally lower than simpler models like BoW.\n",
    "\n",
    "B. FFNN models lack direct interpretability because the learned representations are distributed across multiple hidden layers and do not provide clear insights into the decision-making process.\n",
    "\n",
    "C. Insights from FFNN models are often obtained indirectly by analyzing the effects of input features on the model's predictions or through techniques like feature importance analysis, layer visualization, or gradient-based interpretation methods.\n",
    "\n",
    "2.Insights from Sentiment Analysis:\n",
    "---------------------------------------------------\n",
    "\n",
    "A. Sentiment analysis on the Course Reviews University of Waterloo Dataset can provide valuable insights into students' opinions and experiences with different courses offered by the university.\n",
    "\n",
    "B. By analyzing the sentiment of course reviews, patterns or trends can be identified in terms of the sentiment distribution across courses or specific aspects of courses.\n",
    "\n",
    "C. Insights gained from sentiment analysis can help identify courses that receive positive feedback and are highly regarded by students, as well as courses that may need improvement based on negative sentiment patterns.\n",
    "\n",
    "D. The analysis can provide actionable insights for universities to enhance their course offerings, improve teaching methods, or address any issues highlighted by students in their reviews."
   ]
  }
 ],
 "metadata": {
  "colab": {
   "provenance": []
  },
  "kernelspec": {
   "display_name": "Python 3 (ipykernel)",
   "language": "python",
   "name": "python3"
  },
  "language_info": {
   "codemirror_mode": {
    "name": "ipython",
    "version": 3
   },
   "file_extension": ".py",
   "mimetype": "text/x-python",
   "name": "python",
   "nbconvert_exporter": "python",
   "pygments_lexer": "ipython3",
   "version": "3.9.12"
  }
 },
 "nbformat": 4,
 "nbformat_minor": 1
}
